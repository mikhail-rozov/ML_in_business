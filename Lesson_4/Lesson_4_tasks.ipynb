{
 "cells": [
  {
   "cell_type": "markdown",
   "id": "7308f7e9-e529-4a0a-88a7-7475fa063872",
   "metadata": {},
   "source": [
    "## Практическое задание к уроку № 4 по теме \"Uplift-моделирование\"."
   ]
  },
  {
   "cell_type": "markdown",
   "id": "8ec1539b-07ba-489b-ad67-728107027828",
   "metadata": {
    "id": "O01FUEq6Fi2x"
   },
   "source": [
    "1. скачать набор данных маркетинговых кампаний отсюда https://www.kaggle.com/davinwijaya/customer-retention\n",
    "2. поле conversion - это целевая переменная, а offer - коммуникация. Переименовать поля (conversion -> target, offer -> treatment) и привести поле treatment к бинарному виду (1 или 0, т.е было какое-то предложение или нет) - значение No Offer означает отсутствие коммуникации, а все остальные - наличие.\n",
    "3. сделать разбиение набора данных не тренировочную и тестовую выборки\n",
    "4. провести uplift-моделирование 3 способами:\n",
    "    1. одна модель с признаком коммуникации (S-learner)\n",
    "    2. модель с трансформацией таргета\n",
    "    3. вариант с двумя независимыми моделями\n",
    "5. в конце вывести единую таблицу сравнения метрик uplift@10%, uplift@20% 3 моделей\n",
    "6. *для модели S-learner построить зависимость таргета (конверсии - поле conversion) от значения uplift:\n",
    "    1. сделать прогноз и получить uplift для тестовой выборки\n",
    "    2. отсортировать тестовую выборку по uplift по убыванию\n",
    "    3. разбить на децили (pandas qcut вам в помощь)\n",
    "    4. для каждого дециля посчитать среднюю conversion"
   ]
  },
  {
   "cell_type": "markdown",
   "id": "13448f0a-0c7c-46a7-bd88-599a93abff2a",
   "metadata": {},
   "source": [
    "#### Задание 1."
   ]
  },
  {
   "cell_type": "code",
   "execution_count": 1,
   "id": "21de128c-f91f-4a00-afc3-d1d044cfa6f6",
   "metadata": {},
   "outputs": [],
   "source": [
    "from catboost import CatBoostClassifier\n",
    "import matplotlib.pyplot as plt\n",
    "import numpy as np\n",
    "import pandas as pd\n",
    "from sklearn.model_selection import train_test_split\n",
    "from sklift.metrics import uplift_at_k\n",
    "from sklift.models import ClassTransformation, SoloModel, TwoModels"
   ]
  },
  {
   "cell_type": "code",
   "execution_count": 2,
   "id": "5c2f7400-e683-489d-9e19-a1d1a846cd90",
   "metadata": {},
   "outputs": [
    {
     "data": {
      "text/html": [
       "<div>\n",
       "<style scoped>\n",
       "    .dataframe tbody tr th:only-of-type {\n",
       "        vertical-align: middle;\n",
       "    }\n",
       "\n",
       "    .dataframe tbody tr th {\n",
       "        vertical-align: top;\n",
       "    }\n",
       "\n",
       "    .dataframe thead th {\n",
       "        text-align: right;\n",
       "    }\n",
       "</style>\n",
       "<table border=\"1\" class=\"dataframe\">\n",
       "  <thead>\n",
       "    <tr style=\"text-align: right;\">\n",
       "      <th></th>\n",
       "      <th>recency</th>\n",
       "      <th>history</th>\n",
       "      <th>used_discount</th>\n",
       "      <th>used_bogo</th>\n",
       "      <th>zip_code</th>\n",
       "      <th>is_referral</th>\n",
       "      <th>channel</th>\n",
       "      <th>offer</th>\n",
       "      <th>conversion</th>\n",
       "    </tr>\n",
       "  </thead>\n",
       "  <tbody>\n",
       "    <tr>\n",
       "      <th>0</th>\n",
       "      <td>10</td>\n",
       "      <td>142.44</td>\n",
       "      <td>1</td>\n",
       "      <td>0</td>\n",
       "      <td>Surburban</td>\n",
       "      <td>0</td>\n",
       "      <td>Phone</td>\n",
       "      <td>Buy One Get One</td>\n",
       "      <td>0</td>\n",
       "    </tr>\n",
       "    <tr>\n",
       "      <th>1</th>\n",
       "      <td>6</td>\n",
       "      <td>329.08</td>\n",
       "      <td>1</td>\n",
       "      <td>1</td>\n",
       "      <td>Rural</td>\n",
       "      <td>1</td>\n",
       "      <td>Web</td>\n",
       "      <td>No Offer</td>\n",
       "      <td>0</td>\n",
       "    </tr>\n",
       "    <tr>\n",
       "      <th>2</th>\n",
       "      <td>7</td>\n",
       "      <td>180.65</td>\n",
       "      <td>0</td>\n",
       "      <td>1</td>\n",
       "      <td>Surburban</td>\n",
       "      <td>1</td>\n",
       "      <td>Web</td>\n",
       "      <td>Buy One Get One</td>\n",
       "      <td>0</td>\n",
       "    </tr>\n",
       "    <tr>\n",
       "      <th>3</th>\n",
       "      <td>9</td>\n",
       "      <td>675.83</td>\n",
       "      <td>1</td>\n",
       "      <td>0</td>\n",
       "      <td>Rural</td>\n",
       "      <td>1</td>\n",
       "      <td>Web</td>\n",
       "      <td>Discount</td>\n",
       "      <td>0</td>\n",
       "    </tr>\n",
       "    <tr>\n",
       "      <th>4</th>\n",
       "      <td>2</td>\n",
       "      <td>45.34</td>\n",
       "      <td>1</td>\n",
       "      <td>0</td>\n",
       "      <td>Urban</td>\n",
       "      <td>0</td>\n",
       "      <td>Web</td>\n",
       "      <td>Buy One Get One</td>\n",
       "      <td>0</td>\n",
       "    </tr>\n",
       "  </tbody>\n",
       "</table>\n",
       "</div>"
      ],
      "text/plain": [
       "   recency  history  used_discount  used_bogo   zip_code  is_referral channel  \\\n",
       "0       10   142.44              1          0  Surburban            0   Phone   \n",
       "1        6   329.08              1          1      Rural            1     Web   \n",
       "2        7   180.65              0          1  Surburban            1     Web   \n",
       "3        9   675.83              1          0      Rural            1     Web   \n",
       "4        2    45.34              1          0      Urban            0     Web   \n",
       "\n",
       "             offer  conversion  \n",
       "0  Buy One Get One           0  \n",
       "1         No Offer           0  \n",
       "2  Buy One Get One           0  \n",
       "3         Discount           0  \n",
       "4  Buy One Get One           0  "
      ]
     },
     "execution_count": 2,
     "metadata": {},
     "output_type": "execute_result"
    }
   ],
   "source": [
    "df = pd.read_csv('data.csv')\n",
    "df.head()"
   ]
  },
  {
   "cell_type": "code",
   "execution_count": 3,
   "id": "7ac61a7b-1c29-4c63-82a7-15e1944d5453",
   "metadata": {},
   "outputs": [
    {
     "data": {
      "text/plain": [
       "(64000, 9)"
      ]
     },
     "execution_count": 3,
     "metadata": {},
     "output_type": "execute_result"
    }
   ],
   "source": [
    "df.shape"
   ]
  },
  {
   "cell_type": "code",
   "execution_count": 4,
   "id": "e7c2c9d0-4120-4655-8e68-4e33927725a6",
   "metadata": {},
   "outputs": [
    {
     "data": {
      "text/plain": [
       "recency            int64\n",
       "history          float64\n",
       "used_discount      int64\n",
       "used_bogo          int64\n",
       "zip_code          object\n",
       "is_referral        int64\n",
       "channel           object\n",
       "offer             object\n",
       "conversion         int64\n",
       "dtype: object"
      ]
     },
     "execution_count": 4,
     "metadata": {},
     "output_type": "execute_result"
    }
   ],
   "source": [
    "df.dtypes"
   ]
  },
  {
   "cell_type": "markdown",
   "id": "cd565d7f-b050-40e2-8bd1-4d988474b631",
   "metadata": {},
   "source": [
    "#### Задание 2."
   ]
  },
  {
   "cell_type": "code",
   "execution_count": 5,
   "id": "9d4ed53f-af15-4839-aaae-6e0a46927d23",
   "metadata": {},
   "outputs": [],
   "source": [
    "df.rename({'conversion': 'target', 'offer': 'treatment'}, axis=1, inplace=True)"
   ]
  },
  {
   "cell_type": "code",
   "execution_count": 6,
   "id": "df7fdf41-a067-41d5-8d80-e36a0d5d61cd",
   "metadata": {},
   "outputs": [
    {
     "data": {
      "text/plain": [
       "array(['Buy One Get One', 'No Offer', 'Discount'], dtype=object)"
      ]
     },
     "execution_count": 6,
     "metadata": {},
     "output_type": "execute_result"
    }
   ],
   "source": [
    "df['treatment'].unique()"
   ]
  },
  {
   "cell_type": "code",
   "execution_count": 7,
   "id": "93bdfc1a-8983-407b-8af3-dd0df2ac42d6",
   "metadata": {},
   "outputs": [
    {
     "data": {
      "text/html": [
       "<div>\n",
       "<style scoped>\n",
       "    .dataframe tbody tr th:only-of-type {\n",
       "        vertical-align: middle;\n",
       "    }\n",
       "\n",
       "    .dataframe tbody tr th {\n",
       "        vertical-align: top;\n",
       "    }\n",
       "\n",
       "    .dataframe thead th {\n",
       "        text-align: right;\n",
       "    }\n",
       "</style>\n",
       "<table border=\"1\" class=\"dataframe\">\n",
       "  <thead>\n",
       "    <tr style=\"text-align: right;\">\n",
       "      <th></th>\n",
       "      <th>recency</th>\n",
       "      <th>history</th>\n",
       "      <th>used_discount</th>\n",
       "      <th>used_bogo</th>\n",
       "      <th>zip_code</th>\n",
       "      <th>is_referral</th>\n",
       "      <th>channel</th>\n",
       "      <th>treatment</th>\n",
       "      <th>target</th>\n",
       "    </tr>\n",
       "  </thead>\n",
       "  <tbody>\n",
       "    <tr>\n",
       "      <th>0</th>\n",
       "      <td>10</td>\n",
       "      <td>142.44</td>\n",
       "      <td>1</td>\n",
       "      <td>0</td>\n",
       "      <td>Surburban</td>\n",
       "      <td>0</td>\n",
       "      <td>Phone</td>\n",
       "      <td>1</td>\n",
       "      <td>0</td>\n",
       "    </tr>\n",
       "    <tr>\n",
       "      <th>1</th>\n",
       "      <td>6</td>\n",
       "      <td>329.08</td>\n",
       "      <td>1</td>\n",
       "      <td>1</td>\n",
       "      <td>Rural</td>\n",
       "      <td>1</td>\n",
       "      <td>Web</td>\n",
       "      <td>0</td>\n",
       "      <td>0</td>\n",
       "    </tr>\n",
       "    <tr>\n",
       "      <th>2</th>\n",
       "      <td>7</td>\n",
       "      <td>180.65</td>\n",
       "      <td>0</td>\n",
       "      <td>1</td>\n",
       "      <td>Surburban</td>\n",
       "      <td>1</td>\n",
       "      <td>Web</td>\n",
       "      <td>1</td>\n",
       "      <td>0</td>\n",
       "    </tr>\n",
       "    <tr>\n",
       "      <th>3</th>\n",
       "      <td>9</td>\n",
       "      <td>675.83</td>\n",
       "      <td>1</td>\n",
       "      <td>0</td>\n",
       "      <td>Rural</td>\n",
       "      <td>1</td>\n",
       "      <td>Web</td>\n",
       "      <td>1</td>\n",
       "      <td>0</td>\n",
       "    </tr>\n",
       "    <tr>\n",
       "      <th>4</th>\n",
       "      <td>2</td>\n",
       "      <td>45.34</td>\n",
       "      <td>1</td>\n",
       "      <td>0</td>\n",
       "      <td>Urban</td>\n",
       "      <td>0</td>\n",
       "      <td>Web</td>\n",
       "      <td>1</td>\n",
       "      <td>0</td>\n",
       "    </tr>\n",
       "  </tbody>\n",
       "</table>\n",
       "</div>"
      ],
      "text/plain": [
       "   recency  history  used_discount  used_bogo   zip_code  is_referral channel  \\\n",
       "0       10   142.44              1          0  Surburban            0   Phone   \n",
       "1        6   329.08              1          1      Rural            1     Web   \n",
       "2        7   180.65              0          1  Surburban            1     Web   \n",
       "3        9   675.83              1          0      Rural            1     Web   \n",
       "4        2    45.34              1          0      Urban            0     Web   \n",
       "\n",
       "   treatment  target  \n",
       "0          1       0  \n",
       "1          0       0  \n",
       "2          1       0  \n",
       "3          1       0  \n",
       "4          1       0  "
      ]
     },
     "execution_count": 7,
     "metadata": {},
     "output_type": "execute_result"
    }
   ],
   "source": [
    "df.loc[df['treatment'] != 'No Offer', 'treatment'] = 1\n",
    "df.loc[df['treatment'] == 'No Offer', 'treatment'] = 0\n",
    "df['treatment'] = df['treatment'].astype('int')\n",
    "df.head()"
   ]
  },
  {
   "cell_type": "code",
   "execution_count": 8,
   "id": "0ae5f4a8-5d09-49cf-97cb-c0e1b06427cd",
   "metadata": {},
   "outputs": [
    {
     "data": {
      "text/plain": [
       "0    0.853219\n",
       "1    0.146781\n",
       "Name: target, dtype: float64"
      ]
     },
     "execution_count": 8,
     "metadata": {},
     "output_type": "execute_result"
    }
   ],
   "source": [
    "df['target'].value_counts(normalize=True)"
   ]
  },
  {
   "cell_type": "code",
   "execution_count": 9,
   "id": "c42ebd79-86f6-4fe2-b01b-741c057fa3a8",
   "metadata": {},
   "outputs": [
    {
     "data": {
      "text/html": [
       "<div>\n",
       "<style scoped>\n",
       "    .dataframe tbody tr th:only-of-type {\n",
       "        vertical-align: middle;\n",
       "    }\n",
       "\n",
       "    .dataframe tbody tr th {\n",
       "        vertical-align: top;\n",
       "    }\n",
       "\n",
       "    .dataframe thead th {\n",
       "        text-align: right;\n",
       "    }\n",
       "</style>\n",
       "<table border=\"1\" class=\"dataframe\">\n",
       "  <thead>\n",
       "    <tr style=\"text-align: right;\">\n",
       "      <th></th>\n",
       "      <th>count</th>\n",
       "      <th>mean</th>\n",
       "      <th>std</th>\n",
       "      <th>min</th>\n",
       "      <th>25%</th>\n",
       "      <th>50%</th>\n",
       "      <th>75%</th>\n",
       "      <th>max</th>\n",
       "    </tr>\n",
       "    <tr>\n",
       "      <th>treatment</th>\n",
       "      <th></th>\n",
       "      <th></th>\n",
       "      <th></th>\n",
       "      <th></th>\n",
       "      <th></th>\n",
       "      <th></th>\n",
       "      <th></th>\n",
       "      <th></th>\n",
       "    </tr>\n",
       "  </thead>\n",
       "  <tbody>\n",
       "    <tr>\n",
       "      <th>0</th>\n",
       "      <td>21306.0</td>\n",
       "      <td>0.106167</td>\n",
       "      <td>0.308059</td>\n",
       "      <td>0.0</td>\n",
       "      <td>0.0</td>\n",
       "      <td>0.0</td>\n",
       "      <td>0.0</td>\n",
       "      <td>1.0</td>\n",
       "    </tr>\n",
       "    <tr>\n",
       "      <th>1</th>\n",
       "      <td>42694.0</td>\n",
       "      <td>0.167049</td>\n",
       "      <td>0.373024</td>\n",
       "      <td>0.0</td>\n",
       "      <td>0.0</td>\n",
       "      <td>0.0</td>\n",
       "      <td>0.0</td>\n",
       "      <td>1.0</td>\n",
       "    </tr>\n",
       "  </tbody>\n",
       "</table>\n",
       "</div>"
      ],
      "text/plain": [
       "             count      mean       std  min  25%  50%  75%  max\n",
       "treatment                                                      \n",
       "0          21306.0  0.106167  0.308059  0.0  0.0  0.0  0.0  1.0\n",
       "1          42694.0  0.167049  0.373024  0.0  0.0  0.0  0.0  1.0"
      ]
     },
     "execution_count": 9,
     "metadata": {},
     "output_type": "execute_result"
    }
   ],
   "source": [
    "df.groupby('treatment')['target'].describe()"
   ]
  },
  {
   "cell_type": "markdown",
   "id": "849f160b-64fa-4745-a938-0471f04c0a48",
   "metadata": {},
   "source": [
    "Имеется дисбаланс значений целевой переменной и  \n",
    "дисбаланс размеров экспериментальной и контрольной  \n",
    "групп."
   ]
  },
  {
   "cell_type": "markdown",
   "id": "6f7a8b0f-5dd3-4640-afb0-041d4ab1dfa9",
   "metadata": {},
   "source": [
    "#### Задание 3."
   ]
  },
  {
   "cell_type": "code",
   "execution_count": 10,
   "id": "632ad5a1-ab3b-4a08-ad47-1d0a1da6b155",
   "metadata": {},
   "outputs": [],
   "source": [
    "df_train, df_test = train_test_split(df, test_size=0.3, stratify=df['target'], random_state=29)"
   ]
  },
  {
   "cell_type": "code",
   "execution_count": 11,
   "id": "8277d904-a902-4ce0-a9ae-c707cdf98a56",
   "metadata": {},
   "outputs": [],
   "source": [
    "X_train = df_train.drop(['treatment', 'target'], axis=1)\n",
    "y_train = df_train['target']\n",
    "treat_train = df_train['treatment']\n",
    "\n",
    "X_test = df_test.drop(['treatment', 'target'], axis=1)\n",
    "y_test = df_test['target']\n",
    "treat_test = df_test['treatment']"
   ]
  },
  {
   "cell_type": "markdown",
   "id": "40232f11-24c5-4c10-b77d-6c6728c97fc3",
   "metadata": {},
   "source": [
    "#### Задание 4."
   ]
  },
  {
   "cell_type": "code",
   "execution_count": 12,
   "id": "83028e68-75f9-453f-afcd-26367fa0ac3b",
   "metadata": {},
   "outputs": [],
   "source": [
    "cat_features = ['channel', 'zip_code']"
   ]
  },
  {
   "cell_type": "markdown",
   "id": "4132e2fe-2436-4d33-bf5e-c6fbe8f1128b",
   "metadata": {},
   "source": [
    "Одна модель:"
   ]
  },
  {
   "cell_type": "code",
   "execution_count": 13,
   "id": "22a4f5f4-8e59-435a-be74-4f697dd3af81",
   "metadata": {},
   "outputs": [],
   "source": [
    "sm = SoloModel(\n",
    "    CatBoostClassifier(iterations=100, random_state=29, cat_features=cat_features, silent=True)\n",
    ")\n",
    "\n",
    "sm = sm.fit(X_train, y_train, treat_train)\n",
    "uplift_sm = sm.predict(X_test)\n",
    "\n",
    "sm_score_10 = uplift_at_k(y_true=y_test, uplift=uplift_sm, treatment=treat_test, strategy='by_group', k=0.1)\n",
    "sm_score_20 = uplift_at_k(y_true=y_test, uplift=uplift_sm, treatment=treat_test, strategy='by_group', k=0.2)"
   ]
  },
  {
   "cell_type": "code",
   "execution_count": 14,
   "id": "f7b123e5-e480-4c40-9937-7b9630dd03dd",
   "metadata": {},
   "outputs": [
    {
     "data": {
      "text/plain": [
       "(0.0990015110808514, 0.07884371845462051)"
      ]
     },
     "execution_count": 14,
     "metadata": {},
     "output_type": "execute_result"
    }
   ],
   "source": [
    "sm_score_10, sm_score_20"
   ]
  },
  {
   "cell_type": "markdown",
   "id": "adb537b5-8d22-4c9c-91c1-1452be33a074",
   "metadata": {},
   "source": [
    "Модель с трансформацией:"
   ]
  },
  {
   "cell_type": "code",
   "execution_count": 15,
   "id": "e729cd08-6816-4cf7-a73d-c78e5efd0510",
   "metadata": {},
   "outputs": [],
   "source": [
    "ct = ClassTransformation(\n",
    "    CatBoostClassifier(iterations=100, random_state=29, cat_features=cat_features, silent=True)\n",
    ")\n",
    "\n",
    "ct = ct.fit(X_train, y_train, treat_train)\n",
    "uplift_ct = ct.predict(X_test)\n",
    "\n",
    "ct_score_10 = uplift_at_k(y_true=y_test, uplift=uplift_ct, treatment=treat_test, strategy='by_group', k=0.1)\n",
    "ct_score_20 = uplift_at_k(y_true=y_test, uplift=uplift_ct, treatment=treat_test, strategy='by_group', k=0.2)"
   ]
  },
  {
   "cell_type": "code",
   "execution_count": 16,
   "id": "f7ef2fc9-bb3a-4c79-ad74-b5f1056a1ba6",
   "metadata": {},
   "outputs": [
    {
     "data": {
      "text/plain": [
       "(0.07782311292451696, 0.07682940258786822)"
      ]
     },
     "execution_count": 16,
     "metadata": {},
     "output_type": "execute_result"
    }
   ],
   "source": [
    "ct_score_10, ct_score_20"
   ]
  },
  {
   "cell_type": "markdown",
   "id": "b0196b9e-156b-4626-acf4-e4fef0d9dd29",
   "metadata": {},
   "source": [
    "Две независимые модели:"
   ]
  },
  {
   "cell_type": "code",
   "execution_count": 17,
   "id": "1fdaba82-5763-41ff-9778-0ff010ec8f16",
   "metadata": {},
   "outputs": [],
   "source": [
    "tm = TwoModels(\n",
    "    CatBoostClassifier(iterations=100, random_state=29, cat_features=cat_features, silent=True),\n",
    "    CatBoostClassifier(iterations=100, random_state=29, cat_features=cat_features, silent=True),\n",
    "    method='vanilla'\n",
    ")\n",
    "\n",
    "tm = tm.fit(X_train, y_train, treat_train)\n",
    "uplift_tm = tm.predict(X_test)\n",
    "\n",
    "tm_score_10 = uplift_at_k(y_true=y_test, uplift=uplift_tm, treatment=treat_test, strategy='by_group', k=0.1)\n",
    "tm_score_20 = uplift_at_k(y_true=y_test, uplift=uplift_tm, treatment=treat_test, strategy='by_group', k=0.2)"
   ]
  },
  {
   "cell_type": "code",
   "execution_count": 18,
   "id": "92393481-8d6b-423c-8504-aa22e21364f2",
   "metadata": {},
   "outputs": [
    {
     "data": {
      "text/plain": [
       "(0.09357068160277432, 0.10078737267137744)"
      ]
     },
     "execution_count": 18,
     "metadata": {},
     "output_type": "execute_result"
    }
   ],
   "source": [
    "tm_score_10, tm_score_20"
   ]
  },
  {
   "cell_type": "markdown",
   "id": "e8a4ea80-1ad0-4acf-9ee3-88788904379e",
   "metadata": {},
   "source": [
    "#### Задание 5."
   ]
  },
  {
   "cell_type": "markdown",
   "id": "8d2be050-465c-4f2f-ba9e-0243c85afd69",
   "metadata": {},
   "source": [
    "Сведём метрики моделей в таблицу:"
   ]
  },
  {
   "cell_type": "code",
   "execution_count": 19,
   "id": "3938f6ed-5904-46ce-8838-510b94c76057",
   "metadata": {},
   "outputs": [
    {
     "data": {
      "text/html": [
       "<div>\n",
       "<style scoped>\n",
       "    .dataframe tbody tr th:only-of-type {\n",
       "        vertical-align: middle;\n",
       "    }\n",
       "\n",
       "    .dataframe tbody tr th {\n",
       "        vertical-align: top;\n",
       "    }\n",
       "\n",
       "    .dataframe thead th {\n",
       "        text-align: right;\n",
       "    }\n",
       "</style>\n",
       "<table border=\"1\" class=\"dataframe\">\n",
       "  <thead>\n",
       "    <tr style=\"text-align: right;\">\n",
       "      <th></th>\n",
       "      <th>Uplift@10%</th>\n",
       "      <th>Uplift@20%</th>\n",
       "    </tr>\n",
       "  </thead>\n",
       "  <tbody>\n",
       "    <tr>\n",
       "      <th>Two independent</th>\n",
       "      <td>0.093571</td>\n",
       "      <td>0.100787</td>\n",
       "    </tr>\n",
       "    <tr>\n",
       "      <th>SoloModel</th>\n",
       "      <td>0.099002</td>\n",
       "      <td>0.078844</td>\n",
       "    </tr>\n",
       "    <tr>\n",
       "      <th>ClassTransformation</th>\n",
       "      <td>0.077823</td>\n",
       "      <td>0.076829</td>\n",
       "    </tr>\n",
       "  </tbody>\n",
       "</table>\n",
       "</div>"
      ],
      "text/plain": [
       "                     Uplift@10%  Uplift@20%\n",
       "Two independent        0.093571    0.100787\n",
       "SoloModel              0.099002    0.078844\n",
       "ClassTransformation    0.077823    0.076829"
      ]
     },
     "execution_count": 19,
     "metadata": {},
     "output_type": "execute_result"
    }
   ],
   "source": [
    "models = np.array(['SoloModel', 'ClassTransformation', 'Two independent'])\n",
    "columns = ['Uplift@10%', 'Uplift@20%']\n",
    "data = np.array([\n",
    "    [sm_score_10, sm_score_20],\n",
    "    [ct_score_10, ct_score_20],\n",
    "    [tm_score_10, tm_score_20]\n",
    "])\n",
    "pd.DataFrame(data, index=models, columns=columns).sort_values('Uplift@20%', ascending=False)"
   ]
  },
  {
   "cell_type": "markdown",
   "id": "5c67dd7e-cbd9-4d46-9759-815d559dda78",
   "metadata": {},
   "source": [
    "Лучшей оказалась метрика двух независимых моделей.  \n",
    "Был выбран способ расчёта метрики *by_group*, так как  \n",
    "имеется дисбаланс размеров экспериментальной и контрольной  \n",
    "групп."
   ]
  },
  {
   "cell_type": "markdown",
   "id": "b9d26386-0c15-4d90-98d2-37e5d0d9ac2d",
   "metadata": {},
   "source": [
    "#### Задание 6."
   ]
  },
  {
   "cell_type": "markdown",
   "id": "9f170cd0-86f3-4d5f-9133-36a34b9e0d14",
   "metadata": {},
   "source": [
    "Построим зависимость конверсии от предсказанного значения uplift для алгоритма  \n",
    "с одной моделью:"
   ]
  },
  {
   "cell_type": "code",
   "execution_count": 20,
   "id": "cb8514c0-5a55-4205-a149-335ad96c2e2e",
   "metadata": {},
   "outputs": [],
   "source": [
    "new_uplift_sm = pd.Series(uplift_sm, name='uplift_sm', index=X_test.index)"
   ]
  },
  {
   "cell_type": "code",
   "execution_count": 21,
   "id": "6b559eff-fc91-4502-a641-5f77251875ed",
   "metadata": {},
   "outputs": [
    {
     "data": {
      "text/html": [
       "<div>\n",
       "<style scoped>\n",
       "    .dataframe tbody tr th:only-of-type {\n",
       "        vertical-align: middle;\n",
       "    }\n",
       "\n",
       "    .dataframe tbody tr th {\n",
       "        vertical-align: top;\n",
       "    }\n",
       "\n",
       "    .dataframe thead th {\n",
       "        text-align: right;\n",
       "    }\n",
       "</style>\n",
       "<table border=\"1\" class=\"dataframe\">\n",
       "  <thead>\n",
       "    <tr style=\"text-align: right;\">\n",
       "      <th></th>\n",
       "      <th>recency</th>\n",
       "      <th>history</th>\n",
       "      <th>used_discount</th>\n",
       "      <th>used_bogo</th>\n",
       "      <th>zip_code</th>\n",
       "      <th>is_referral</th>\n",
       "      <th>channel</th>\n",
       "      <th>uplift_sm</th>\n",
       "      <th>target</th>\n",
       "    </tr>\n",
       "  </thead>\n",
       "  <tbody>\n",
       "    <tr>\n",
       "      <th>0</th>\n",
       "      <td>12</td>\n",
       "      <td>946.14</td>\n",
       "      <td>1</td>\n",
       "      <td>1</td>\n",
       "      <td>Surburban</td>\n",
       "      <td>1</td>\n",
       "      <td>Phone</td>\n",
       "      <td>0.238391</td>\n",
       "      <td>1</td>\n",
       "    </tr>\n",
       "    <tr>\n",
       "      <th>1</th>\n",
       "      <td>10</td>\n",
       "      <td>859.98</td>\n",
       "      <td>1</td>\n",
       "      <td>1</td>\n",
       "      <td>Surburban</td>\n",
       "      <td>1</td>\n",
       "      <td>Phone</td>\n",
       "      <td>0.203023</td>\n",
       "      <td>0</td>\n",
       "    </tr>\n",
       "    <tr>\n",
       "      <th>2</th>\n",
       "      <td>10</td>\n",
       "      <td>832.11</td>\n",
       "      <td>1</td>\n",
       "      <td>1</td>\n",
       "      <td>Surburban</td>\n",
       "      <td>1</td>\n",
       "      <td>Phone</td>\n",
       "      <td>0.202335</td>\n",
       "      <td>0</td>\n",
       "    </tr>\n",
       "    <tr>\n",
       "      <th>3</th>\n",
       "      <td>10</td>\n",
       "      <td>977.80</td>\n",
       "      <td>1</td>\n",
       "      <td>1</td>\n",
       "      <td>Surburban</td>\n",
       "      <td>1</td>\n",
       "      <td>Phone</td>\n",
       "      <td>0.195916</td>\n",
       "      <td>1</td>\n",
       "    </tr>\n",
       "    <tr>\n",
       "      <th>4</th>\n",
       "      <td>3</td>\n",
       "      <td>732.34</td>\n",
       "      <td>1</td>\n",
       "      <td>1</td>\n",
       "      <td>Rural</td>\n",
       "      <td>1</td>\n",
       "      <td>Phone</td>\n",
       "      <td>0.195183</td>\n",
       "      <td>0</td>\n",
       "    </tr>\n",
       "  </tbody>\n",
       "</table>\n",
       "</div>"
      ],
      "text/plain": [
       "   recency  history  used_discount  used_bogo   zip_code  is_referral channel  \\\n",
       "0       12   946.14              1          1  Surburban            1   Phone   \n",
       "1       10   859.98              1          1  Surburban            1   Phone   \n",
       "2       10   832.11              1          1  Surburban            1   Phone   \n",
       "3       10   977.80              1          1  Surburban            1   Phone   \n",
       "4        3   732.34              1          1      Rural            1   Phone   \n",
       "\n",
       "   uplift_sm  target  \n",
       "0   0.238391       1  \n",
       "1   0.203023       0  \n",
       "2   0.202335       0  \n",
       "3   0.195916       1  \n",
       "4   0.195183       0  "
      ]
     },
     "execution_count": 21,
     "metadata": {},
     "output_type": "execute_result"
    }
   ],
   "source": [
    "new_df = pd.concat((X_test, new_uplift_sm, y_test), axis=1).sort_values('uplift_sm', ascending=False).reset_index(drop=True)\n",
    "new_df.head()"
   ]
  },
  {
   "cell_type": "code",
   "execution_count": 22,
   "id": "fd968dc1-411c-42fa-bf0a-697a6558a8f2",
   "metadata": {},
   "outputs": [],
   "source": [
    "deciles = pd.Series(pd.qcut(new_df.index, 10, labels=[f'decile_{i}' for i in range(1, 11)]), name='decile')"
   ]
  },
  {
   "cell_type": "code",
   "execution_count": 23,
   "id": "c5426710-2891-4566-bdd3-bde993fc1314",
   "metadata": {},
   "outputs": [
    {
     "data": {
      "text/html": [
       "<div>\n",
       "<style scoped>\n",
       "    .dataframe tbody tr th:only-of-type {\n",
       "        vertical-align: middle;\n",
       "    }\n",
       "\n",
       "    .dataframe tbody tr th {\n",
       "        vertical-align: top;\n",
       "    }\n",
       "\n",
       "    .dataframe thead th {\n",
       "        text-align: right;\n",
       "    }\n",
       "</style>\n",
       "<table border=\"1\" class=\"dataframe\">\n",
       "  <thead>\n",
       "    <tr style=\"text-align: right;\">\n",
       "      <th></th>\n",
       "      <th>recency</th>\n",
       "      <th>history</th>\n",
       "      <th>used_discount</th>\n",
       "      <th>used_bogo</th>\n",
       "      <th>zip_code</th>\n",
       "      <th>is_referral</th>\n",
       "      <th>channel</th>\n",
       "      <th>uplift_sm</th>\n",
       "      <th>target</th>\n",
       "      <th>decile</th>\n",
       "    </tr>\n",
       "  </thead>\n",
       "  <tbody>\n",
       "    <tr>\n",
       "      <th>0</th>\n",
       "      <td>12</td>\n",
       "      <td>946.14</td>\n",
       "      <td>1</td>\n",
       "      <td>1</td>\n",
       "      <td>Surburban</td>\n",
       "      <td>1</td>\n",
       "      <td>Phone</td>\n",
       "      <td>0.238391</td>\n",
       "      <td>1</td>\n",
       "      <td>decile_1</td>\n",
       "    </tr>\n",
       "    <tr>\n",
       "      <th>1</th>\n",
       "      <td>10</td>\n",
       "      <td>859.98</td>\n",
       "      <td>1</td>\n",
       "      <td>1</td>\n",
       "      <td>Surburban</td>\n",
       "      <td>1</td>\n",
       "      <td>Phone</td>\n",
       "      <td>0.203023</td>\n",
       "      <td>0</td>\n",
       "      <td>decile_1</td>\n",
       "    </tr>\n",
       "    <tr>\n",
       "      <th>2</th>\n",
       "      <td>10</td>\n",
       "      <td>832.11</td>\n",
       "      <td>1</td>\n",
       "      <td>1</td>\n",
       "      <td>Surburban</td>\n",
       "      <td>1</td>\n",
       "      <td>Phone</td>\n",
       "      <td>0.202335</td>\n",
       "      <td>0</td>\n",
       "      <td>decile_1</td>\n",
       "    </tr>\n",
       "    <tr>\n",
       "      <th>3</th>\n",
       "      <td>10</td>\n",
       "      <td>977.80</td>\n",
       "      <td>1</td>\n",
       "      <td>1</td>\n",
       "      <td>Surburban</td>\n",
       "      <td>1</td>\n",
       "      <td>Phone</td>\n",
       "      <td>0.195916</td>\n",
       "      <td>1</td>\n",
       "      <td>decile_1</td>\n",
       "    </tr>\n",
       "    <tr>\n",
       "      <th>4</th>\n",
       "      <td>3</td>\n",
       "      <td>732.34</td>\n",
       "      <td>1</td>\n",
       "      <td>1</td>\n",
       "      <td>Rural</td>\n",
       "      <td>1</td>\n",
       "      <td>Phone</td>\n",
       "      <td>0.195183</td>\n",
       "      <td>0</td>\n",
       "      <td>decile_1</td>\n",
       "    </tr>\n",
       "    <tr>\n",
       "      <th>...</th>\n",
       "      <td>...</td>\n",
       "      <td>...</td>\n",
       "      <td>...</td>\n",
       "      <td>...</td>\n",
       "      <td>...</td>\n",
       "      <td>...</td>\n",
       "      <td>...</td>\n",
       "      <td>...</td>\n",
       "      <td>...</td>\n",
       "      <td>...</td>\n",
       "    </tr>\n",
       "    <tr>\n",
       "      <th>19195</th>\n",
       "      <td>3</td>\n",
       "      <td>399.26</td>\n",
       "      <td>1</td>\n",
       "      <td>1</td>\n",
       "      <td>Rural</td>\n",
       "      <td>0</td>\n",
       "      <td>Web</td>\n",
       "      <td>-0.057836</td>\n",
       "      <td>1</td>\n",
       "      <td>decile_10</td>\n",
       "    </tr>\n",
       "    <tr>\n",
       "      <th>19196</th>\n",
       "      <td>2</td>\n",
       "      <td>369.63</td>\n",
       "      <td>1</td>\n",
       "      <td>0</td>\n",
       "      <td>Rural</td>\n",
       "      <td>0</td>\n",
       "      <td>Phone</td>\n",
       "      <td>-0.061703</td>\n",
       "      <td>0</td>\n",
       "      <td>decile_10</td>\n",
       "    </tr>\n",
       "    <tr>\n",
       "      <th>19197</th>\n",
       "      <td>4</td>\n",
       "      <td>395.11</td>\n",
       "      <td>1</td>\n",
       "      <td>0</td>\n",
       "      <td>Rural</td>\n",
       "      <td>0</td>\n",
       "      <td>Web</td>\n",
       "      <td>-0.064671</td>\n",
       "      <td>0</td>\n",
       "      <td>decile_10</td>\n",
       "    </tr>\n",
       "    <tr>\n",
       "      <th>19198</th>\n",
       "      <td>3</td>\n",
       "      <td>377.15</td>\n",
       "      <td>1</td>\n",
       "      <td>0</td>\n",
       "      <td>Rural</td>\n",
       "      <td>0</td>\n",
       "      <td>Phone</td>\n",
       "      <td>-0.067782</td>\n",
       "      <td>0</td>\n",
       "      <td>decile_10</td>\n",
       "    </tr>\n",
       "    <tr>\n",
       "      <th>19199</th>\n",
       "      <td>3</td>\n",
       "      <td>360.76</td>\n",
       "      <td>1</td>\n",
       "      <td>0</td>\n",
       "      <td>Rural</td>\n",
       "      <td>0</td>\n",
       "      <td>Multichannel</td>\n",
       "      <td>-0.068906</td>\n",
       "      <td>0</td>\n",
       "      <td>decile_10</td>\n",
       "    </tr>\n",
       "  </tbody>\n",
       "</table>\n",
       "<p>19200 rows × 10 columns</p>\n",
       "</div>"
      ],
      "text/plain": [
       "       recency  history  used_discount  used_bogo   zip_code  is_referral  \\\n",
       "0           12   946.14              1          1  Surburban            1   \n",
       "1           10   859.98              1          1  Surburban            1   \n",
       "2           10   832.11              1          1  Surburban            1   \n",
       "3           10   977.80              1          1  Surburban            1   \n",
       "4            3   732.34              1          1      Rural            1   \n",
       "...        ...      ...            ...        ...        ...          ...   \n",
       "19195        3   399.26              1          1      Rural            0   \n",
       "19196        2   369.63              1          0      Rural            0   \n",
       "19197        4   395.11              1          0      Rural            0   \n",
       "19198        3   377.15              1          0      Rural            0   \n",
       "19199        3   360.76              1          0      Rural            0   \n",
       "\n",
       "            channel  uplift_sm  target     decile  \n",
       "0             Phone   0.238391       1   decile_1  \n",
       "1             Phone   0.203023       0   decile_1  \n",
       "2             Phone   0.202335       0   decile_1  \n",
       "3             Phone   0.195916       1   decile_1  \n",
       "4             Phone   0.195183       0   decile_1  \n",
       "...             ...        ...     ...        ...  \n",
       "19195           Web  -0.057836       1  decile_10  \n",
       "19196         Phone  -0.061703       0  decile_10  \n",
       "19197           Web  -0.064671       0  decile_10  \n",
       "19198         Phone  -0.067782       0  decile_10  \n",
       "19199  Multichannel  -0.068906       0  decile_10  \n",
       "\n",
       "[19200 rows x 10 columns]"
      ]
     },
     "execution_count": 23,
     "metadata": {},
     "output_type": "execute_result"
    }
   ],
   "source": [
    "new_df = pd.concat((new_df, deciles), axis=1)\n",
    "new_df"
   ]
  },
  {
   "cell_type": "code",
   "execution_count": 24,
   "id": "be04febf-1da5-4f05-955b-9a2bf4a1e821",
   "metadata": {},
   "outputs": [
    {
     "data": {
      "text/html": [
       "<div>\n",
       "<style scoped>\n",
       "    .dataframe tbody tr th:only-of-type {\n",
       "        vertical-align: middle;\n",
       "    }\n",
       "\n",
       "    .dataframe tbody tr th {\n",
       "        vertical-align: top;\n",
       "    }\n",
       "\n",
       "    .dataframe thead th {\n",
       "        text-align: right;\n",
       "    }\n",
       "</style>\n",
       "<table border=\"1\" class=\"dataframe\">\n",
       "  <thead>\n",
       "    <tr style=\"text-align: right;\">\n",
       "      <th></th>\n",
       "      <th>uplift_sm</th>\n",
       "      <th>target</th>\n",
       "    </tr>\n",
       "    <tr>\n",
       "      <th>decile</th>\n",
       "      <th></th>\n",
       "      <th></th>\n",
       "    </tr>\n",
       "  </thead>\n",
       "  <tbody>\n",
       "    <tr>\n",
       "      <th>decile_1</th>\n",
       "      <td>0.116563</td>\n",
       "      <td>0.200521</td>\n",
       "    </tr>\n",
       "    <tr>\n",
       "      <th>decile_2</th>\n",
       "      <td>0.087780</td>\n",
       "      <td>0.166667</td>\n",
       "    </tr>\n",
       "    <tr>\n",
       "      <th>decile_3</th>\n",
       "      <td>0.076883</td>\n",
       "      <td>0.160417</td>\n",
       "    </tr>\n",
       "    <tr>\n",
       "      <th>decile_4</th>\n",
       "      <td>0.068910</td>\n",
       "      <td>0.141667</td>\n",
       "    </tr>\n",
       "    <tr>\n",
       "      <th>decile_5</th>\n",
       "      <td>0.061301</td>\n",
       "      <td>0.136458</td>\n",
       "    </tr>\n",
       "    <tr>\n",
       "      <th>decile_6</th>\n",
       "      <td>0.053443</td>\n",
       "      <td>0.136979</td>\n",
       "    </tr>\n",
       "    <tr>\n",
       "      <th>decile_7</th>\n",
       "      <td>0.046089</td>\n",
       "      <td>0.135937</td>\n",
       "    </tr>\n",
       "    <tr>\n",
       "      <th>decile_8</th>\n",
       "      <td>0.039937</td>\n",
       "      <td>0.127604</td>\n",
       "    </tr>\n",
       "    <tr>\n",
       "      <th>decile_9</th>\n",
       "      <td>0.033493</td>\n",
       "      <td>0.113021</td>\n",
       "    </tr>\n",
       "    <tr>\n",
       "      <th>decile_10</th>\n",
       "      <td>0.018664</td>\n",
       "      <td>0.148438</td>\n",
       "    </tr>\n",
       "  </tbody>\n",
       "</table>\n",
       "</div>"
      ],
      "text/plain": [
       "           uplift_sm    target\n",
       "decile                        \n",
       "decile_1    0.116563  0.200521\n",
       "decile_2    0.087780  0.166667\n",
       "decile_3    0.076883  0.160417\n",
       "decile_4    0.068910  0.141667\n",
       "decile_5    0.061301  0.136458\n",
       "decile_6    0.053443  0.136979\n",
       "decile_7    0.046089  0.135937\n",
       "decile_8    0.039937  0.127604\n",
       "decile_9    0.033493  0.113021\n",
       "decile_10   0.018664  0.148438"
      ]
     },
     "execution_count": 24,
     "metadata": {},
     "output_type": "execute_result"
    }
   ],
   "source": [
    "by_deciles = new_df.groupby('decile').agg({'uplift_sm': 'mean', 'target': 'mean'})\n",
    "by_deciles"
   ]
  },
  {
   "cell_type": "code",
   "execution_count": 25,
   "id": "ec5547d2-3a61-4ac1-bc09-c05b54ce6834",
   "metadata": {},
   "outputs": [
    {
     "data": {
      "image/png": "[encoded data removed]",
      "text/plain": [
       "<Figure size 720x432 with 1 Axes>"
      ]
     },
     "metadata": {
      "needs_background": "light"
     },
     "output_type": "display_data"
    }
   ],
   "source": [
    "plt.rcParams.update({'font.size': 14})\n",
    "plt.figure(figsize=(10,6))\n",
    "\n",
    "plt.plot(by_deciles['uplift_sm'], by_deciles['target'])\n",
    "plt.title('Зависимость конверсии от предсказанного значения uplift')\n",
    "plt.xlabel('Uplift')\n",
    "plt.ylabel('Target')\n",
    "\n",
    "for i, j in enumerate(zip(by_deciles['uplift_sm'].values, by_deciles['target'].values)):\n",
    "    plt.annotate(i+1, xy=(j[0], j[1]))\n",
    "    \n",
    "plt.grid()\n",
    "plt.show()"
   ]
  },
  {
   "cell_type": "markdown",
   "id": "6ae8f116-aeb3-45a5-b407-a74f8f8007a9",
   "metadata": {},
   "source": [
    "В целом видим, что более высокое значение конверсии соответствует  \n",
    "более высоким значениям uplift. Попробую описать своё видение каждого  \n",
    "участка графика:  \n",
    "*Дециль 10* - преобладают люди из категории sleeping dogs, которые совершают  \n",
    "целевое действие при отсутствии коммуникации с нашей стороны.  \n",
    "*Децили 9-8* - преобладают люди из категории lost causes, не совершающие целевое  \n",
    "действие, независимо от нашей коммуникации. Модель здесь наиболее уверена в их  \n",
    "классификации.  \n",
    "*Децили 7-4* - преобладает комбинация lost causes и sure things. Обе категории не  \n",
    "реагируют на нашу коммуникацию, среднее значение target зависит только от их соотношения  \n",
    "в выборке. Модель уже не так уверена, часть людей, вероятно, относится к persuadables.  \n",
    "*Децили 3-1* - преобладают persuadables, которые наиболее вероятно совершат целевое  \n",
    "действие только при нашей коммуникации.  \n",
    "Безусловно, группирование на деле не такое явное, так как модель не идеальна, и в  \n",
    "каждой нашей группе присутствуют представители всех категорий, но общие тенденции  \n",
    "должны быть примерно такими."
   ]
  }
 ],
 "metadata": {
  "kernelspec": {
   "display_name": "Python 3 (ipykernel)",
   "language": "python",
   "name": "python3"
  },
  "language_info": {
   "codemirror_mode": {
    "name": "ipython",
    "version": 3
   },
   "file_extension": ".py",
   "mimetype": "text/x-python",
   "name": "python",
   "nbconvert_exporter": "python",
   "pygments_lexer": "ipython3",
   "version": "3.10.2"
  }
 },
 "nbformat": 4,
 "nbformat_minor": 5
}
