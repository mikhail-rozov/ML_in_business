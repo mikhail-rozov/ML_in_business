{
 "cells": [
  {
   "cell_type": "markdown",
   "id": "31ca4184-78b9-4913-8bee-28d161d838e4",
   "metadata": {},
   "source": [
    "## Практическое задание к уроку № 5 по теме \"Задача оттока: варианты постановки, возможные способы решения\"."
   ]
  },
  {
   "cell_type": "markdown",
   "id": "c51ad65a-92f2-4755-b01f-aa70bddc72d2",
   "metadata": {},
   "source": [
    "1. Для нашего пайплайна (Case1) поэкспериментировать с разными моделями:\n",
    "    - бустинг\n",
    "    - логистическая регрессия\n",
    "2. Отобрать лучшую модель по метрикам (какая по вашему мнению здесь наиболее подходящая ML-метрика)\n",
    "3. Для отобранной модели (на отложенной выборке) сделать оценку экономической эффективности при тех же вводных, как в вопросе 2:\n",
    "    - 1 доллар на удержание\n",
    "    - 2 доллара - с каждого правильно классифицированного (True Positive)\n",
    "4. *Провести подбор гиперпараметров лучшей модели по итогам 2-3\n",
    "5. *Еще раз провести оценку экономической эффективности"
   ]
  },
  {
   "cell_type": "code",
   "execution_count": 1,
   "id": "edbb364c-85f4-4517-9e7a-ea816e232186",
   "metadata": {},
   "outputs": [],
   "source": [
    "import matplotlib.pyplot as plt\n",
    "import numpy as np\n",
    "import pandas as pd\n",
    "from sklearn.base import BaseEstimator, TransformerMixin\n",
    "from sklearn.ensemble import GradientBoostingClassifier\n",
    "from sklearn.linear_model import LogisticRegression\n",
    "from sklearn.metrics import confusion_matrix, make_scorer, precision_recall_curve\n",
    "from sklearn.model_selection import GridSearchCV, train_test_split\n",
    "from sklearn.pipeline import FeatureUnion, Pipeline\n",
    "from sklearn.preprocessing import StandardScaler"
   ]
  },
  {
   "cell_type": "code",
   "execution_count": 2,
   "id": "031339d6-25f6-4f88-9453-975a24e6324e",
   "metadata": {},
   "outputs": [
    {
     "data": {
      "text/html": [
       "<div>\n",
       "<style scoped>\n",
       "    .dataframe tbody tr th:only-of-type {\n",
       "        vertical-align: middle;\n",
       "    }\n",
       "\n",
       "    .dataframe tbody tr th {\n",
       "        vertical-align: top;\n",
       "    }\n",
       "\n",
       "    .dataframe thead th {\n",
       "        text-align: right;\n",
       "    }\n",
       "</style>\n",
       "<table border=\"1\" class=\"dataframe\">\n",
       "  <thead>\n",
       "    <tr style=\"text-align: right;\">\n",
       "      <th></th>\n",
       "      <th>RowNumber</th>\n",
       "      <th>CustomerId</th>\n",
       "      <th>Surname</th>\n",
       "      <th>CreditScore</th>\n",
       "      <th>Geography</th>\n",
       "      <th>Gender</th>\n",
       "      <th>Age</th>\n",
       "      <th>Tenure</th>\n",
       "      <th>Balance</th>\n",
       "      <th>NumOfProducts</th>\n",
       "      <th>HasCrCard</th>\n",
       "      <th>IsActiveMember</th>\n",
       "      <th>EstimatedSalary</th>\n",
       "      <th>Exited</th>\n",
       "    </tr>\n",
       "  </thead>\n",
       "  <tbody>\n",
       "    <tr>\n",
       "      <th>0</th>\n",
       "      <td>1</td>\n",
       "      <td>15634602</td>\n",
       "      <td>Hargrave</td>\n",
       "      <td>619</td>\n",
       "      <td>France</td>\n",
       "      <td>Female</td>\n",
       "      <td>42</td>\n",
       "      <td>2</td>\n",
       "      <td>0.00</td>\n",
       "      <td>1</td>\n",
       "      <td>1</td>\n",
       "      <td>1</td>\n",
       "      <td>101348.88</td>\n",
       "      <td>1</td>\n",
       "    </tr>\n",
       "    <tr>\n",
       "      <th>1</th>\n",
       "      <td>2</td>\n",
       "      <td>15647311</td>\n",
       "      <td>Hill</td>\n",
       "      <td>608</td>\n",
       "      <td>Spain</td>\n",
       "      <td>Female</td>\n",
       "      <td>41</td>\n",
       "      <td>1</td>\n",
       "      <td>83807.86</td>\n",
       "      <td>1</td>\n",
       "      <td>0</td>\n",
       "      <td>1</td>\n",
       "      <td>112542.58</td>\n",
       "      <td>0</td>\n",
       "    </tr>\n",
       "    <tr>\n",
       "      <th>2</th>\n",
       "      <td>3</td>\n",
       "      <td>15619304</td>\n",
       "      <td>Onio</td>\n",
       "      <td>502</td>\n",
       "      <td>France</td>\n",
       "      <td>Female</td>\n",
       "      <td>42</td>\n",
       "      <td>8</td>\n",
       "      <td>159660.80</td>\n",
       "      <td>3</td>\n",
       "      <td>1</td>\n",
       "      <td>0</td>\n",
       "      <td>113931.57</td>\n",
       "      <td>1</td>\n",
       "    </tr>\n",
       "    <tr>\n",
       "      <th>3</th>\n",
       "      <td>4</td>\n",
       "      <td>15701354</td>\n",
       "      <td>Boni</td>\n",
       "      <td>699</td>\n",
       "      <td>France</td>\n",
       "      <td>Female</td>\n",
       "      <td>39</td>\n",
       "      <td>1</td>\n",
       "      <td>0.00</td>\n",
       "      <td>2</td>\n",
       "      <td>0</td>\n",
       "      <td>0</td>\n",
       "      <td>93826.63</td>\n",
       "      <td>0</td>\n",
       "    </tr>\n",
       "    <tr>\n",
       "      <th>4</th>\n",
       "      <td>5</td>\n",
       "      <td>15737888</td>\n",
       "      <td>Mitchell</td>\n",
       "      <td>850</td>\n",
       "      <td>Spain</td>\n",
       "      <td>Female</td>\n",
       "      <td>43</td>\n",
       "      <td>2</td>\n",
       "      <td>125510.82</td>\n",
       "      <td>1</td>\n",
       "      <td>1</td>\n",
       "      <td>1</td>\n",
       "      <td>79084.10</td>\n",
       "      <td>0</td>\n",
       "    </tr>\n",
       "  </tbody>\n",
       "</table>\n",
       "</div>"
      ],
      "text/plain": [
       "   RowNumber  CustomerId   Surname  CreditScore Geography  Gender  Age  \\\n",
       "0          1    15634602  Hargrave          619    France  Female   42   \n",
       "1          2    15647311      Hill          608     Spain  Female   41   \n",
       "2          3    15619304      Onio          502    France  Female   42   \n",
       "3          4    15701354      Boni          699    France  Female   39   \n",
       "4          5    15737888  Mitchell          850     Spain  Female   43   \n",
       "\n",
       "   Tenure    Balance  NumOfProducts  HasCrCard  IsActiveMember  \\\n",
       "0       2       0.00              1          1               1   \n",
       "1       1   83807.86              1          0               1   \n",
       "2       8  159660.80              3          1               0   \n",
       "3       1       0.00              2          0               0   \n",
       "4       2  125510.82              1          1               1   \n",
       "\n",
       "   EstimatedSalary  Exited  \n",
       "0        101348.88       1  \n",
       "1        112542.58       0  \n",
       "2        113931.57       1  \n",
       "3         93826.63       0  \n",
       "4         79084.10       0  "
      ]
     },
     "execution_count": 2,
     "metadata": {},
     "output_type": "execute_result"
    }
   ],
   "source": [
    "df = pd.read_csv('churn_data.csv')\n",
    "df.head()"
   ]
  },
  {
   "cell_type": "code",
   "execution_count": 3,
   "id": "dd84bc5d-7bf0-4365-b54f-6e6e0d74408a",
   "metadata": {},
   "outputs": [
    {
     "data": {
      "text/plain": [
       "(10000, 14)"
      ]
     },
     "execution_count": 3,
     "metadata": {},
     "output_type": "execute_result"
    }
   ],
   "source": [
    "df.shape"
   ]
  },
  {
   "cell_type": "markdown",
   "id": "aba7f60b-e43b-4695-9b08-58448fec0461",
   "metadata": {},
   "source": [
    "Пайплайн с урока:"
   ]
  },
  {
   "cell_type": "code",
   "execution_count": 4,
   "id": "8e0a0ec9-ae1c-4c87-a0b0-a8f7cdbad84a",
   "metadata": {},
   "outputs": [],
   "source": [
    "class FeatureSelector(BaseEstimator, TransformerMixin):\n",
    "    def __init__(self, column):\n",
    "        self.column = column\n",
    "\n",
    "    def fit(self, X, y=None):\n",
    "        return self\n",
    "\n",
    "    def transform(self, X, y=None):\n",
    "        return X[self.column]\n",
    "    \n",
    "\n",
    "class NumberSelector(BaseEstimator, TransformerMixin):\n",
    "    \"\"\"\n",
    "    Transformer to select a single column from the data frame to perform additional transformations on\n",
    "    Use on numeric columns in the data\n",
    "    \"\"\"\n",
    "    def __init__(self, key):\n",
    "        self.key = key\n",
    "\n",
    "    def fit(self, X, y=None):\n",
    "        return self\n",
    "\n",
    "    def transform(self, X):\n",
    "        return X[[self.key]]\n",
    "    \n",
    "    \n",
    "class OHEEncoder(BaseEstimator, TransformerMixin):\n",
    "    def __init__(self, key):\n",
    "        self.key = key\n",
    "        self.columns = []\n",
    "\n",
    "    def fit(self, X, y=None):\n",
    "        self.columns = [col for col in pd.get_dummies(X, prefix=self.key).columns]\n",
    "        return self\n",
    "\n",
    "    def transform(self, X):\n",
    "        X = pd.get_dummies(X, prefix=self.key)\n",
    "        test_columns = [col for col in X.columns]\n",
    "        \n",
    "        for col_ in self.columns:\n",
    "            if col_ not in test_columns:\n",
    "                X[col_] = 0\n",
    "        return X[self.columns]"
   ]
  },
  {
   "cell_type": "markdown",
   "id": "8233002f-e72b-4610-9e29-202d5f116a96",
   "metadata": {},
   "source": [
    "В отличие от урока, не будем делать OHE таких бинарных признаков, как  \n",
    "*HasCrCard* и *IsActiveMember*, вообще не будем их трогать.  \n",
    "Так как планируется обучать линейную модель, то проведём стандартизацию  \n",
    "некоторых признаков."
   ]
  },
  {
   "cell_type": "code",
   "execution_count": 5,
   "id": "7bd0ccb7-24a0-4eae-8b85-c0645a4b20d2",
   "metadata": {},
   "outputs": [],
   "source": [
    "categorical_columns = ['Geography', 'Gender', 'Tenure']\n",
    "continuous_columns = ['CreditScore', 'Age', 'Balance', 'NumOfProducts', 'EstimatedSalary']\n",
    "base_columns = ['HasCrCard', 'IsActiveMember']"
   ]
  },
  {
   "cell_type": "code",
   "execution_count": 6,
   "id": "781d5890-a0c1-45ef-9231-ba5362ebd5be",
   "metadata": {},
   "outputs": [],
   "source": [
    "final_transformers = []\n",
    "\n",
    "for cat_col in categorical_columns:\n",
    "    cat_transformer = Pipeline([\n",
    "                ('selector', FeatureSelector(column=cat_col)),\n",
    "                ('ohe', OHEEncoder(key=cat_col))\n",
    "            ])\n",
    "    \n",
    "    final_transformers.append((cat_col, cat_transformer))\n",
    "    \n",
    "for cont_col in continuous_columns:\n",
    "    cont_transformer = Pipeline([\n",
    "                ('selector', NumberSelector(key=cont_col)),\n",
    "                ('scaler', StandardScaler())\n",
    "            ])\n",
    "    \n",
    "    final_transformers.append((cont_col, cont_transformer))\n",
    "\n",
    "for base_col in base_columns:\n",
    "    base_transformer = Pipeline([\n",
    "                ('selector', NumberSelector(key=base_col))\n",
    "            ])\n",
    "    \n",
    "    final_transformers.append((base_col, base_transformer))"
   ]
  },
  {
   "cell_type": "code",
   "execution_count": 7,
   "id": "79ea9d7e-ee3b-47cf-a1b4-90c8b06a354c",
   "metadata": {},
   "outputs": [],
   "source": [
    "feats = FeatureUnion(final_transformers)"
   ]
  },
  {
   "cell_type": "markdown",
   "id": "881d09b2-dda5-4796-9d11-ee67c5636379",
   "metadata": {},
   "source": [
    "Оценим дисбаланс целевой переменной:"
   ]
  },
  {
   "cell_type": "code",
   "execution_count": 8,
   "id": "4d2499e1-7201-4fd8-888b-969727f8726a",
   "metadata": {},
   "outputs": [
    {
     "data": {
      "text/plain": [
       "0    0.7963\n",
       "1    0.2037\n",
       "Name: Exited, dtype: float64"
      ]
     },
     "execution_count": 8,
     "metadata": {},
     "output_type": "execute_result"
    }
   ],
   "source": [
    "df['Exited'].value_counts(normalize=True)"
   ]
  },
  {
   "cell_type": "markdown",
   "id": "a551e0ca-226d-48a0-b9ad-e87232b1ba30",
   "metadata": {},
   "source": [
    "В качестве основной ML-метрики будем рассматривать F-score, так как  \n",
    "он остаётся презентативным при дисбалансе классов.  \n",
    "Бизнес-метрику будем рассматривать дальше."
   ]
  },
  {
   "cell_type": "markdown",
   "id": "6b25793f-179f-47a1-a914-f8e22e34e05c",
   "metadata": {},
   "source": [
    "Разобъём датасет и обучим модели:"
   ]
  },
  {
   "cell_type": "code",
   "execution_count": 9,
   "id": "d9742d9e-00a5-4d72-97de-ea0c5583a434",
   "metadata": {},
   "outputs": [],
   "source": [
    "X_train, X_test, y_train, y_test = train_test_split(df.drop(['Exited'], axis=1), df['Exited'], \n",
    "                                                    test_size=0.25, stratify=df['Exited'], random_state=29)"
   ]
  },
  {
   "cell_type": "code",
   "execution_count": 10,
   "id": "38d0abc9-ea08-4781-bf0a-4567307a80ba",
   "metadata": {},
   "outputs": [],
   "source": [
    "lr_model = Pipeline([\n",
    "    ('features', feats),\n",
    "    ('classifier', LogisticRegression())\n",
    "])\n",
    "\n",
    "gb_model = Pipeline([\n",
    "    ('features', feats),\n",
    "    ('classifier', GradientBoostingClassifier(random_state=29))\n",
    "])"
   ]
  },
  {
   "cell_type": "code",
   "execution_count": 11,
   "id": "45099aa7-0ac3-4040-886c-bb4c11ebe839",
   "metadata": {},
   "outputs": [],
   "source": [
    "lr_model.fit(X_train, y_train);"
   ]
  },
  {
   "cell_type": "code",
   "execution_count": 12,
   "id": "23724ff0-8dd4-4e10-b3d0-0c69bf35a8b2",
   "metadata": {},
   "outputs": [],
   "source": [
    "gb_model.fit(X_train, y_train);"
   ]
  },
  {
   "cell_type": "markdown",
   "id": "180cd131-b241-475c-810b-381acba47a84",
   "metadata": {},
   "source": [
    "Сделаем предсказания и подберём порог классификации,  \n",
    "соответствующий наибольшему значению f1-score:"
   ]
  },
  {
   "cell_type": "code",
   "execution_count": 13,
   "id": "37559b47-c013-4f7d-9387-545034004a7b",
   "metadata": {},
   "outputs": [],
   "source": [
    "preds_lr = lr_model.predict_proba(X_test)[:, 1]"
   ]
  },
  {
   "cell_type": "code",
   "execution_count": 14,
   "id": "f3dbcdc0-958e-46e1-9dba-e15a4e0eceeb",
   "metadata": {},
   "outputs": [],
   "source": [
    "preds_gb = gb_model.predict_proba(X_test)[:, 1]"
   ]
  },
  {
   "cell_type": "code",
   "execution_count": 15,
   "id": "64f5a438-414c-4a89-8ee0-94fcc2369007",
   "metadata": {},
   "outputs": [],
   "source": [
    "def get_metrics(y_test, preds, beta=1, verbose=True):\n",
    "    \n",
    "    precision, recall, thresholds = precision_recall_curve(y_test, preds)\n",
    "    \n",
    "    fscore = (1 + beta**2) * (precision * recall) / (beta**2 * precision + recall)\n",
    "    ix = np.argmax(fscore)\n",
    "    \n",
    "    if verbose:\n",
    "        print(f'Best Threshold={thresholds[ix]}, F-Score={fscore[ix]:.3f}, Precision={precision[ix]:.3f}, Recall={recall[ix]:.3f}')\n",
    "    \n",
    "    return thresholds[ix]"
   ]
  },
  {
   "cell_type": "code",
   "execution_count": 16,
   "id": "4a8174ba-3653-4a14-8459-2e881a1ea175",
   "metadata": {},
   "outputs": [
    {
     "name": "stdout",
     "output_type": "stream",
     "text": [
      "Best Threshold=0.28183311468121175, F-Score=0.507, Precision=0.464, Recall=0.558\n"
     ]
    }
   ],
   "source": [
    "lr_threshold = get_metrics(y_test, preds_lr)"
   ]
  },
  {
   "cell_type": "code",
   "execution_count": 17,
   "id": "ab7bf2dc-d47b-4a50-8cd2-e824d60e061c",
   "metadata": {},
   "outputs": [
    {
     "name": "stdout",
     "output_type": "stream",
     "text": [
      "Best Threshold=0.3255780699405442, F-Score=0.643, Precision=0.653, Recall=0.635\n"
     ]
    }
   ],
   "source": [
    "gb_threshold = get_metrics(y_test, preds_gb)"
   ]
  },
  {
   "cell_type": "markdown",
   "id": "eb7d70f2-fe42-4977-a00a-8a7446d8dcea",
   "metadata": {},
   "source": [
    "Лучшей моделью оказалась модель градиентного бустинга.  \n",
    "Оценим её экономическую эффективность:"
   ]
  },
  {
   "cell_type": "code",
   "execution_count": 18,
   "id": "e97ab617-e5fa-42cc-9ade-2ac804e2a28e",
   "metadata": {},
   "outputs": [],
   "source": [
    "def calc_profit(y_test, preds, threshold,\n",
    "               expenses_to_keep=1, profit_from_kept=2, verbose=True):\n",
    "    \n",
    "    cnf_matrix = confusion_matrix(y_test, preds > threshold)\n",
    "    \n",
    "    TN = cnf_matrix[0][0]\n",
    "    FP = cnf_matrix[0][1]\n",
    "    FN = cnf_matrix[1][0]\n",
    "    TP = cnf_matrix[1][1]\n",
    "    \n",
    "    expenses = (FP + TP) * expenses_to_keep\n",
    "    income = TP * profit_from_kept\n",
    "    if verbose:\n",
    "        print(cnf_matrix)\n",
    "    \n",
    "    return income - expenses"
   ]
  },
  {
   "cell_type": "markdown",
   "id": "b727de06-70b4-4a6c-a0cb-35f169b4b441",
   "metadata": {},
   "source": [
    "Принимаем, что попытка удержания одного клиента стоит 1 рубль,  \n",
    "а каждый, кто из-за удержания не ушёл, даёт нам 2 рубля."
   ]
  },
  {
   "cell_type": "code",
   "execution_count": 19,
   "id": "34282614-08f2-46cf-a836-a58f12382721",
   "metadata": {},
   "outputs": [],
   "source": [
    "expenses_to_keep = 1\n",
    "profit_from_kept = 2"
   ]
  },
  {
   "cell_type": "code",
   "execution_count": 20,
   "id": "0920a6c9-9204-4307-96ad-ba98d2f36063",
   "metadata": {},
   "outputs": [
    {
     "name": "stdout",
     "output_type": "stream",
     "text": [
      "[[1819  172]\n",
      " [ 187  322]]\n"
     ]
    },
    {
     "data": {
      "text/plain": [
       "150"
      ]
     },
     "execution_count": 20,
     "metadata": {},
     "output_type": "execute_result"
    }
   ],
   "source": [
    "gb_profit_default = calc_profit(y_test, preds_gb, gb_threshold, \n",
    "                                expenses_to_keep, profit_from_kept)\n",
    "gb_profit_default"
   ]
  },
  {
   "cell_type": "markdown",
   "id": "4a8f23fa-7bd6-4431-b06d-c9b39cd82aa9",
   "metadata": {},
   "source": [
    "Сделаем подбор гиперпараметров модели:"
   ]
  },
  {
   "cell_type": "code",
   "execution_count": 21,
   "id": "fc09d563-79e2-42ad-88fa-19f8e7d35e63",
   "metadata": {},
   "outputs": [],
   "source": [
    "params = {\n",
    "    'classifier__n_estimators': [100, 200, 300],\n",
    "    'classifier__learning_rate': [0.03, 0.05, 0.1],\n",
    "    'classifier__min_samples_leaf': [1, 3, 5],\n",
    "    'classifier__max_depth': [3, 4, 5]\n",
    "}"
   ]
  },
  {
   "cell_type": "code",
   "execution_count": 22,
   "id": "ddb8190a-41aa-46fa-9f0a-8277b0c56dab",
   "metadata": {},
   "outputs": [],
   "source": [
    "gb_model_tuned = GridSearchCV(gb_model, param_grid=params, cv=5, n_jobs=-1)\n",
    "\n",
    "gb_model_tuned.fit(X_train, y_train);"
   ]
  },
  {
   "cell_type": "code",
   "execution_count": 23,
   "id": "f9f12552-17bb-4011-af91-8cc3e9c85f5f",
   "metadata": {},
   "outputs": [
    {
     "data": {
      "text/plain": [
       "{'classifier__learning_rate': 0.03,\n",
       " 'classifier__max_depth': 4,\n",
       " 'classifier__min_samples_leaf': 3,\n",
       " 'classifier__n_estimators': 200}"
      ]
     },
     "execution_count": 23,
     "metadata": {},
     "output_type": "execute_result"
    }
   ],
   "source": [
    "gb_model_tuned.best_params_"
   ]
  },
  {
   "cell_type": "markdown",
   "id": "ad98f854-5cc1-4984-9c3e-68b37c9fc046",
   "metadata": {},
   "source": [
    "Найдём порог классификации и экономическую эффективность  \n",
    "настроенной модели:"
   ]
  },
  {
   "cell_type": "code",
   "execution_count": 24,
   "id": "ba8a4c08-f25c-4dd0-b015-8edbaee24af7",
   "metadata": {},
   "outputs": [],
   "source": [
    "preds_gb_tuned = gb_model_tuned.predict_proba(X_test)[:, 1]"
   ]
  },
  {
   "cell_type": "code",
   "execution_count": 25,
   "id": "cae21b84-3112-4b8f-9fa3-50348b3e0786",
   "metadata": {},
   "outputs": [
    {
     "name": "stdout",
     "output_type": "stream",
     "text": [
      "Best Threshold=0.2798019939355548, F-Score=0.645, Precision=0.611, Recall=0.684\n"
     ]
    }
   ],
   "source": [
    "gb_threshold_tuned = get_metrics(y_test, preds_gb_tuned)"
   ]
  },
  {
   "cell_type": "code",
   "execution_count": 26,
   "id": "fc669dd2-9c6a-4560-95f3-943cce69eb49",
   "metadata": {},
   "outputs": [
    {
     "name": "stdout",
     "output_type": "stream",
     "text": [
      "[[1769  222]\n",
      " [ 162  347]]\n"
     ]
    },
    {
     "data": {
      "text/plain": [
       "125"
      ]
     },
     "execution_count": 26,
     "metadata": {},
     "output_type": "execute_result"
    }
   ],
   "source": [
    "gb_profit_tuned = calc_profit(y_test, preds_gb_tuned, gb_threshold_tuned, \n",
    "                              expenses_to_keep, profit_from_kept)\n",
    "gb_profit_tuned"
   ]
  },
  {
   "cell_type": "markdown",
   "id": "cbd36e3f-eaa9-4c22-9b87-6dba8b19d33b",
   "metadata": {},
   "source": [
    "Данная \"настроенная\" модель показала более низкий precision и более высокий recall  \n",
    "при увеличении f1-score. При этом экономическая эффективность оказалась хуже, так как  \n",
    "при подборе параметров, так же, как и при нахождений порога классификации, экономика  \n",
    "никак не учитывалась.  \n",
    "Попробуем настроить значение beta для f-score, чтобы оно соответствовало максимальному  \n",
    "экономическому эффекту:"
   ]
  },
  {
   "cell_type": "code",
   "execution_count": 27,
   "id": "fc806c03-757d-448b-857a-179f75822730",
   "metadata": {},
   "outputs": [],
   "source": [
    "def get_best_beta(y_test, preds, verbose=True):\n",
    "    \n",
    "    profits = []\n",
    "    betas = np.linspace(0.3, 1.5, 13)\n",
    "\n",
    "    \n",
    "    for b in betas:\n",
    "        threshold = get_metrics(y_test, preds, beta=b, verbose=False)\n",
    "        profits.append(calc_profit(y_test, preds, threshold, expenses_to_keep, profit_from_kept, verbose=False))\n",
    "    \n",
    "    ix = np.argmax(profits)\n",
    "    if verbose:\n",
    "        print(f'Best Beta = {betas[ix]}, Best Profit = {profits[ix]}')\n",
    "        plt.rcParams.update({'font.size': 14})\n",
    "        plt.plot(betas, profits)\n",
    "        plt.xlabel('Beta')\n",
    "        plt.ylabel('Profit')\n",
    "        plt.grid()\n",
    "    \n",
    "    return betas[ix]"
   ]
  },
  {
   "cell_type": "code",
   "execution_count": 28,
   "id": "c518014c-b986-4b1f-a0e5-60bc4bb8d752",
   "metadata": {},
   "outputs": [
    {
     "name": "stdout",
     "output_type": "stream",
     "text": [
      "Best Beta = 0.6, Best Profit = 164\n"
     ]
    },
    {
     "data": {
      "image/png": "[encoded data removed]",
      "text/plain": [
       "<Figure size 432x288 with 1 Axes>"
      ]
     },
     "metadata": {
      "needs_background": "light"
     },
     "output_type": "display_data"
    }
   ],
   "source": [
    "gb_model_tuned_beta = get_best_beta(y_test, preds_gb_tuned)"
   ]
  },
  {
   "cell_type": "markdown",
   "id": "5d6fa628-658f-4da4-8073-0ae0b0db3789",
   "metadata": {},
   "source": [
    "Посмотрим метрики, порог и матрицу ошибок при такой beta:"
   ]
  },
  {
   "cell_type": "code",
   "execution_count": 29,
   "id": "588c400a-69da-4512-8227-c13325f0325d",
   "metadata": {},
   "outputs": [
    {
     "name": "stdout",
     "output_type": "stream",
     "text": [
      "Best Threshold=0.4643325953522141, F-Score=0.657, Precision=0.736, Recall=0.505\n"
     ]
    }
   ],
   "source": [
    "gb_threshold_tuned = get_metrics(y_test, preds_gb_tuned, beta=gb_model_tuned_beta)"
   ]
  },
  {
   "cell_type": "code",
   "execution_count": 30,
   "id": "d003fe75-9bac-432f-803e-02f853b16e53",
   "metadata": {},
   "outputs": [
    {
     "name": "stdout",
     "output_type": "stream",
     "text": [
      "[[1899   92]\n",
      " [ 253  256]]\n"
     ]
    },
    {
     "data": {
      "text/plain": [
       "164"
      ]
     },
     "execution_count": 30,
     "metadata": {},
     "output_type": "execute_result"
    }
   ],
   "source": [
    "gb_profit_tuned = calc_profit(y_test, preds_gb_tuned, gb_threshold_tuned, \n",
    "                              expenses_to_keep, profit_from_kept)\n",
    "gb_profit_tuned"
   ]
  },
  {
   "cell_type": "markdown",
   "id": "9449a28d-22b2-49a9-8de9-3377aa3ef933",
   "metadata": {},
   "source": [
    "Метрика F-score оказалась выше, чем при стандартном значении beta.  \n",
    "Также видим, что для максимизации прибыли важнее оказалась метрика  \n",
    "Precision, нежели Recall: она существенно возросла при значительном  \n",
    "падении Recall."
   ]
  },
  {
   "cell_type": "markdown",
   "id": "268e8ba4-8fd8-4698-9431-343764094ad9",
   "metadata": {},
   "source": [
    "Теперь попробуем объединить написанные ранее функции для создания  \n",
    "метрики, по которой будет происходить поиск параметров:"
   ]
  },
  {
   "cell_type": "code",
   "execution_count": 31,
   "id": "cde3eb2a-c425-4199-aa04-df950299d4c2",
   "metadata": {},
   "outputs": [],
   "source": [
    "def profit_score_(y_test, preds, expenses_to_keep=1, profit_from_kept=2):\n",
    "    \n",
    "    best_beta = get_best_beta(y_test, preds, verbose=False)\n",
    "    \n",
    "    best_threshold = get_metrics(y_test, preds, beta=best_beta, verbose=False)\n",
    "\n",
    "    profit = calc_profit(y_test, preds, best_threshold,\n",
    "                         expenses_to_keep, profit_from_kept,\n",
    "                         verbose=False)\n",
    "    return profit"
   ]
  },
  {
   "cell_type": "code",
   "execution_count": 32,
   "id": "d2397a3a-f77f-469e-9f04-1e0fe9b1221a",
   "metadata": {},
   "outputs": [],
   "source": [
    "profit_score = make_scorer(profit_score_, \n",
    "                           expenses_to_keep=expenses_to_keep,\n",
    "                           profit_from_kept=profit_from_kept,\n",
    "                           needs_proba=True)"
   ]
  },
  {
   "cell_type": "code",
   "execution_count": 33,
   "id": "df90f42e-c00a-42eb-b510-8118c0474c18",
   "metadata": {},
   "outputs": [],
   "source": [
    "gb_model_tuned_2 = GridSearchCV(gb_model, param_grid=params, scoring=profit_score, cv=5, n_jobs=-1)\n",
    "\n",
    "gb_model_tuned_2.fit(X_train, y_train);"
   ]
  },
  {
   "cell_type": "code",
   "execution_count": 34,
   "id": "312a0752-b721-4b99-91f9-88b3b4b250da",
   "metadata": {},
   "outputs": [
    {
     "data": {
      "text/plain": [
       "{'classifier__learning_rate': 0.03,\n",
       " 'classifier__max_depth': 4,\n",
       " 'classifier__min_samples_leaf': 5,\n",
       " 'classifier__n_estimators': 200}"
      ]
     },
     "execution_count": 34,
     "metadata": {},
     "output_type": "execute_result"
    }
   ],
   "source": [
    "gb_model_tuned_2.best_params_"
   ]
  },
  {
   "cell_type": "code",
   "execution_count": 35,
   "id": "d94c7d2c-800a-426a-8024-867df80a038b",
   "metadata": {},
   "outputs": [],
   "source": [
    "preds_gb_tuned_2 = gb_model_tuned_2.predict_proba(X_test)[:, 1]"
   ]
  },
  {
   "cell_type": "code",
   "execution_count": 36,
   "id": "bd0d70da-6f7e-44eb-8b39-570cf1c3f9cb",
   "metadata": {},
   "outputs": [
    {
     "name": "stdout",
     "output_type": "stream",
     "text": [
      "Best Beta = 0.6, Best Profit = 162\n"
     ]
    },
    {
     "data": {
      "image/png": "[encoded data removed]",
      "text/plain": [
       "<Figure size 432x288 with 1 Axes>"
      ]
     },
     "metadata": {
      "needs_background": "light"
     },
     "output_type": "display_data"
    }
   ],
   "source": [
    "gb_model_tuned_beta_2 = get_best_beta(y_test, preds_gb_tuned_2)"
   ]
  },
  {
   "cell_type": "code",
   "execution_count": 37,
   "id": "4f766168-4e74-44f1-a8a1-c71aeb3355d9",
   "metadata": {},
   "outputs": [
    {
     "name": "stdout",
     "output_type": "stream",
     "text": [
      "Best Threshold=0.44637821321813226, F-Score=0.655, Precision=0.721, Recall=0.523\n"
     ]
    }
   ],
   "source": [
    "gb_threshold_tuned_2 = get_metrics(y_test, preds_gb_tuned_2, beta=gb_model_tuned_beta_2)"
   ]
  },
  {
   "cell_type": "code",
   "execution_count": 38,
   "id": "d9341194-a000-4db5-92f9-8e95815e3c82",
   "metadata": {},
   "outputs": [
    {
     "name": "stdout",
     "output_type": "stream",
     "text": [
      "[[1888  103]\n",
      " [ 244  265]]\n"
     ]
    },
    {
     "data": {
      "text/plain": [
       "162"
      ]
     },
     "execution_count": 38,
     "metadata": {},
     "output_type": "execute_result"
    }
   ],
   "source": [
    "gb_profit_tuned_2 = calc_profit(y_test, preds_gb_tuned_2, gb_threshold_tuned_2, \n",
    "                                expenses_to_keep, profit_from_kept)\n",
    "gb_profit_tuned_2"
   ]
  },
  {
   "cell_type": "markdown",
   "id": "0f513822-a273-4f2b-a504-c31595cc9ca5",
   "metadata": {},
   "source": [
    "Несмотря на то, что теперь поиск параметров производился с учётом  \n",
    "максимизации прибыли, результат получился чуть хуже. Скорее всего,  \n",
    "это связано с качеством предсказания модели на тестовой выборке,  \n",
    "а также с тем, что после настройки параметра beta предыдущая модель  \n",
    "уже получилась достаточно хорошей."
   ]
  }
 ],
 "metadata": {
  "kernelspec": {
   "display_name": "Python 3 (ipykernel)",
   "language": "python",
   "name": "python3"
  },
  "language_info": {
   "codemirror_mode": {
    "name": "ipython",
    "version": 3
   },
   "file_extension": ".py",
   "mimetype": "text/x-python",
   "name": "python",
   "nbconvert_exporter": "python",
   "pygments_lexer": "ipython3",
   "version": "3.10.2"
  }
 },
 "nbformat": 4,
 "nbformat_minor": 5
}
