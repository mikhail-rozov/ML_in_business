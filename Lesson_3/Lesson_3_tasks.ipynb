{
 "cells": [
  {
   "cell_type": "markdown",
   "id": "b48cb725-58d6-4516-8f0b-2375352fd1f2",
   "metadata": {},
   "source": [
    "## Практическое задание к уроку № 3 по теме \"Связь бизнес-показателей и DS-метрик\"."
   ]
  },
  {
   "cell_type": "markdown",
   "id": "2bf297c6-ad19-4088-b731-c27c97a8110a",
   "metadata": {
    "id": "-B3d5AfduTOC"
   },
   "source": [
    "1. Обучить несколько разных моделей на наборе данных ССЗ (train_case2.csv): логрег, бустинг, лес и т.д - на ваш выбор 2-3 варианта\n",
    "2. Вывести сравнение полученных моделей по основным метрикам классификации: pr/rec/auc/f_score (можно в виде таблицы, где строки - модели, а столбцы - метрики)\n",
    "3. Вывести сравнение полученных моделей по метрикам бизнеса по показателям с урока\n",
    "    - стоимость лечения 15000р, если сделали тест и начали лечить вовремя\n",
    "    - стоимость лечения 20000р, если упустили и начали лечить когда уже проявились все симптомы\n",
    "    - стоимость теста 1400р\n",
    "4. Сделать выводы о том, какая модель справилась с задачей лучше других\n",
    "5. *Найти порог классификации по деньгам для лучшей модели\n",
    "    - Стоимость лечения 15000р, если сделали тест и начали лечить вовремя\n",
    "    - Стоимость лечения 20000р, если упустили и начали лечить когда уже проявились все симптомы\n",
    "    - Стоимость теста 1400р"
   ]
  },
  {
   "cell_type": "code",
   "execution_count": 1,
   "id": "2a67d7a5-5f45-4aee-abe0-6fb6fd4512b1",
   "metadata": {},
   "outputs": [],
   "source": [
    "import matplotlib.pyplot as plt\n",
    "import numpy as np\n",
    "import pandas as pd\n",
    "from sklearn.base import BaseEstimator, TransformerMixin\n",
    "from sklearn.ensemble import GradientBoostingClassifier, RandomForestClassifier\n",
    "from sklearn.linear_model import LogisticRegression\n",
    "from sklearn.metrics import confusion_matrix, precision_recall_curve, roc_auc_score\n",
    "from sklearn.model_selection import train_test_split\n",
    "from sklearn.neighbors import KNeighborsClassifier\n",
    "from sklearn.pipeline import FeatureUnion, Pipeline\n",
    "from sklearn.preprocessing import StandardScaler"
   ]
  },
  {
   "cell_type": "code",
   "execution_count": 2,
   "id": "7f94757d-96ac-4109-a86a-cc37bffec70c",
   "metadata": {},
   "outputs": [
    {
     "data": {
      "text/html": [
       "<div>\n",
       "<style scoped>\n",
       "    .dataframe tbody tr th:only-of-type {\n",
       "        vertical-align: middle;\n",
       "    }\n",
       "\n",
       "    .dataframe tbody tr th {\n",
       "        vertical-align: top;\n",
       "    }\n",
       "\n",
       "    .dataframe thead th {\n",
       "        text-align: right;\n",
       "    }\n",
       "</style>\n",
       "<table border=\"1\" class=\"dataframe\">\n",
       "  <thead>\n",
       "    <tr style=\"text-align: right;\">\n",
       "      <th></th>\n",
       "      <th>age</th>\n",
       "      <th>gender</th>\n",
       "      <th>height</th>\n",
       "      <th>weight</th>\n",
       "      <th>ap_hi</th>\n",
       "      <th>ap_lo</th>\n",
       "      <th>cholesterol</th>\n",
       "      <th>gluc</th>\n",
       "      <th>smoke</th>\n",
       "      <th>alco</th>\n",
       "      <th>active</th>\n",
       "      <th>cardio</th>\n",
       "    </tr>\n",
       "    <tr>\n",
       "      <th>id</th>\n",
       "      <th></th>\n",
       "      <th></th>\n",
       "      <th></th>\n",
       "      <th></th>\n",
       "      <th></th>\n",
       "      <th></th>\n",
       "      <th></th>\n",
       "      <th></th>\n",
       "      <th></th>\n",
       "      <th></th>\n",
       "      <th></th>\n",
       "      <th></th>\n",
       "    </tr>\n",
       "  </thead>\n",
       "  <tbody>\n",
       "    <tr>\n",
       "      <th>0</th>\n",
       "      <td>18393</td>\n",
       "      <td>2</td>\n",
       "      <td>168</td>\n",
       "      <td>62.0</td>\n",
       "      <td>110</td>\n",
       "      <td>80</td>\n",
       "      <td>1</td>\n",
       "      <td>1</td>\n",
       "      <td>0</td>\n",
       "      <td>0</td>\n",
       "      <td>1</td>\n",
       "      <td>0</td>\n",
       "    </tr>\n",
       "    <tr>\n",
       "      <th>1</th>\n",
       "      <td>20228</td>\n",
       "      <td>1</td>\n",
       "      <td>156</td>\n",
       "      <td>85.0</td>\n",
       "      <td>140</td>\n",
       "      <td>90</td>\n",
       "      <td>3</td>\n",
       "      <td>1</td>\n",
       "      <td>0</td>\n",
       "      <td>0</td>\n",
       "      <td>1</td>\n",
       "      <td>1</td>\n",
       "    </tr>\n",
       "    <tr>\n",
       "      <th>2</th>\n",
       "      <td>18857</td>\n",
       "      <td>1</td>\n",
       "      <td>165</td>\n",
       "      <td>64.0</td>\n",
       "      <td>130</td>\n",
       "      <td>70</td>\n",
       "      <td>3</td>\n",
       "      <td>1</td>\n",
       "      <td>0</td>\n",
       "      <td>0</td>\n",
       "      <td>0</td>\n",
       "      <td>1</td>\n",
       "    </tr>\n",
       "    <tr>\n",
       "      <th>3</th>\n",
       "      <td>17623</td>\n",
       "      <td>2</td>\n",
       "      <td>169</td>\n",
       "      <td>82.0</td>\n",
       "      <td>150</td>\n",
       "      <td>100</td>\n",
       "      <td>1</td>\n",
       "      <td>1</td>\n",
       "      <td>0</td>\n",
       "      <td>0</td>\n",
       "      <td>1</td>\n",
       "      <td>1</td>\n",
       "    </tr>\n",
       "    <tr>\n",
       "      <th>4</th>\n",
       "      <td>17474</td>\n",
       "      <td>1</td>\n",
       "      <td>156</td>\n",
       "      <td>56.0</td>\n",
       "      <td>100</td>\n",
       "      <td>60</td>\n",
       "      <td>1</td>\n",
       "      <td>1</td>\n",
       "      <td>0</td>\n",
       "      <td>0</td>\n",
       "      <td>0</td>\n",
       "      <td>0</td>\n",
       "    </tr>\n",
       "  </tbody>\n",
       "</table>\n",
       "</div>"
      ],
      "text/plain": [
       "      age  gender  height  weight  ap_hi  ap_lo  cholesterol  gluc  smoke  \\\n",
       "id                                                                          \n",
       "0   18393       2     168    62.0    110     80            1     1      0   \n",
       "1   20228       1     156    85.0    140     90            3     1      0   \n",
       "2   18857       1     165    64.0    130     70            3     1      0   \n",
       "3   17623       2     169    82.0    150    100            1     1      0   \n",
       "4   17474       1     156    56.0    100     60            1     1      0   \n",
       "\n",
       "    alco  active  cardio  \n",
       "id                        \n",
       "0      0       1       0  \n",
       "1      0       1       1  \n",
       "2      0       0       1  \n",
       "3      0       1       1  \n",
       "4      0       0       0  "
      ]
     },
     "execution_count": 2,
     "metadata": {},
     "output_type": "execute_result"
    }
   ],
   "source": [
    "df = pd.read_csv('train_case2.csv', sep=';', index_col='id')\n",
    "df.head()"
   ]
  },
  {
   "cell_type": "markdown",
   "id": "fd698a80-358a-40de-b7c1-721497616bc5",
   "metadata": {
    "id": "mslyI3rkuTMq"
   },
   "source": [
    "Разделим наши данные на тренировочную и тестовую выборки"
   ]
  },
  {
   "cell_type": "code",
   "execution_count": 3,
   "id": "a348d53c-2dd6-4434-ba12-7de783e747f8",
   "metadata": {
    "tags": []
   },
   "outputs": [],
   "source": [
    "X_train, X_test, y_train, y_test = train_test_split(df.drop('cardio', axis=1), \n",
    "                                                    df['cardio'], random_state=29)"
   ]
  },
  {
   "cell_type": "markdown",
   "id": "6d78a020-a0ea-411b-9854-9aaeea035388",
   "metadata": {
    "id": "iz0zpgeQuTMx"
   },
   "source": [
    "К полям:\n",
    "- gender, cholesterol применим OHE-кодирование\n",
    "- age, height, weight, ap_hi, ap_lo - standardScaler\n",
    "- gluc, smoke, alco, active - оставим пока как есть"
   ]
  },
  {
   "cell_type": "code",
   "execution_count": 4,
   "id": "3cd73f13-9077-4886-bc9f-a0fbff04665e",
   "metadata": {},
   "outputs": [],
   "source": [
    "class ColumnSelector(BaseEstimator, TransformerMixin):\n",
    "    \"\"\"\n",
    "    Transformer to select a single column from the data frame to perform additional transformations on\n",
    "    \"\"\"\n",
    "    def __init__(self, key):\n",
    "        self.key = key\n",
    "\n",
    "    def fit(self, X, y=None):\n",
    "        return self\n",
    "\n",
    "    def transform(self, X):\n",
    "        return X[self.key]\n",
    "    \n",
    "class NumberSelector(BaseEstimator, TransformerMixin):\n",
    "    \"\"\"\n",
    "    Transformer to select a single column from the data frame to perform additional transformations on\n",
    "    Use on numeric columns in the data\n",
    "    \"\"\"\n",
    "    def __init__(self, key):\n",
    "        self.key = key\n",
    "\n",
    "    def fit(self, X, y=None):\n",
    "        return self\n",
    "\n",
    "    def transform(self, X):\n",
    "        return X[[self.key]]\n",
    "    \n",
    "class OHEEncoder(BaseEstimator, TransformerMixin):\n",
    "    def __init__(self, key):\n",
    "        self.key = key\n",
    "        self.columns = []\n",
    "\n",
    "    def fit(self, X, y=None):\n",
    "        self.columns = [col for col in pd.get_dummies(X, prefix=self.key).columns]\n",
    "        return self\n",
    "\n",
    "    def transform(self, X):\n",
    "        X = pd.get_dummies(X, prefix=self.key)\n",
    "        test_columns = [col for col in X.columns]\n",
    "        for col_ in self.columns:\n",
    "            if col_ not in test_columns:\n",
    "                X[col_] = 0\n",
    "        return X[self.columns]"
   ]
  },
  {
   "cell_type": "code",
   "execution_count": 5,
   "id": "636ecfab-dfda-417b-b29f-3b18dc3814bb",
   "metadata": {},
   "outputs": [],
   "source": [
    "continuos_cols = ['age', 'height', 'weight', 'ap_hi', 'ap_lo']\n",
    "cat_cols = ['gender', 'cholesterol']\n",
    "base_cols = ['gluc', 'smoke', 'alco', 'active']\n",
    "\n",
    "continuos_transformers = []\n",
    "cat_transformers = []\n",
    "base_transformers = []\n",
    "\n",
    "for cont_col in continuos_cols:\n",
    "    transfomer =  Pipeline([\n",
    "                ('selector', NumberSelector(key=cont_col)),\n",
    "                ('standard', StandardScaler())\n",
    "            ])\n",
    "    continuos_transformers.append((cont_col, transfomer))\n",
    "    \n",
    "for cat_col in cat_cols:\n",
    "    cat_transformer = Pipeline([\n",
    "                ('selector', ColumnSelector(key=cat_col)),\n",
    "                ('ohe', OHEEncoder(key=cat_col))\n",
    "            ])\n",
    "    cat_transformers.append((cat_col, cat_transformer))\n",
    "    \n",
    "for base_col in base_cols:\n",
    "    base_transformer = Pipeline([\n",
    "                ('selector', NumberSelector(key=base_col))\n",
    "            ])\n",
    "    base_transformers.append((base_col, base_transformer))"
   ]
  },
  {
   "cell_type": "markdown",
   "id": "d27e4e9f-668b-418e-8f75-b6119c155000",
   "metadata": {
    "id": "kqbcTHEauTNC"
   },
   "source": [
    "Теперь объединим все наши трансформеры с помощью FeatureUnion:"
   ]
  },
  {
   "cell_type": "code",
   "execution_count": 6,
   "id": "163d45cd-b179-4a7e-a321-7fde2f428eef",
   "metadata": {},
   "outputs": [],
   "source": [
    "feats = FeatureUnion(continuos_transformers + cat_transformers + base_transformers)"
   ]
  },
  {
   "cell_type": "markdown",
   "id": "1113f4a2-7f48-4928-888f-bbe6d4091be5",
   "metadata": {},
   "source": [
    "Инициализируем модели:"
   ]
  },
  {
   "cell_type": "code",
   "execution_count": 7,
   "id": "7dcdb845-958d-432a-a824-8fa25b98aa90",
   "metadata": {},
   "outputs": [],
   "source": [
    "lr_model = Pipeline([\n",
    "    ('features', feats),\n",
    "    ('classifier', LogisticRegression())\n",
    "])\n",
    "\n",
    "knn_model = Pipeline([\n",
    "    ('features', feats),\n",
    "    ('classifier', KNeighborsClassifier())\n",
    "])\n",
    "\n",
    "rf_model = Pipeline([\n",
    "    ('features', feats),\n",
    "    ('classifier', RandomForestClassifier(random_state=29))\n",
    "])"
   ]
  },
  {
   "cell_type": "markdown",
   "id": "716d33b4-6110-4d6d-bb33-8e9b95641493",
   "metadata": {},
   "source": [
    "Обозначим функцию для возвращения метрик и определения величины порога классификации, обеспечивающего максимальный f-score:"
   ]
  },
  {
   "cell_type": "code",
   "execution_count": 8,
   "id": "a5259127-8883-473e-9298-20bf230484de",
   "metadata": {},
   "outputs": [],
   "source": [
    "def find_best_metrics(y_test, y_score):\n",
    "    precision, recall, thresholds = precision_recall_curve(y_test.values, y_score)\n",
    "    fscore = (2 * precision * recall) / (precision + recall)\n",
    "    # locate the index of the largest f score\n",
    "    ix = np.argmax(fscore)\n",
    "    print(f'Best Threshold={thresholds[ix]}, F-Score={fscore[ix]:.3f}, Precision={precision[ix]:.3f}, Recall={recall[ix]:.3f}, ROC-AUC={roc_auc_score(y_test, y_score):.3f}')\n",
    "    return thresholds[ix], round(fscore[ix], 3), round(precision[ix], 3), round(recall[ix], 3), round(roc_auc_score(y_test, y_score), 3)"
   ]
  },
  {
   "cell_type": "markdown",
   "id": "1e82b8a5-1c7d-4d2d-8f9c-6d229caefb77",
   "metadata": {},
   "source": [
    "Сделаем предсказания моделей:"
   ]
  },
  {
   "cell_type": "code",
   "execution_count": 9,
   "id": "b6cb8dd4-c99f-4d87-b1fb-c4bc22d88295",
   "metadata": {},
   "outputs": [],
   "source": [
    "lr_model.fit(X_train, y_train)\n",
    "y_score_lr = lr_model.predict_proba(X_test)[:, 1]\n",
    "\n",
    "knn_model.fit(X_train, y_train)\n",
    "y_score_knn = knn_model.predict_proba(X_test)[:, 1]\n",
    "\n",
    "rf_model.fit(X_train, y_train)\n",
    "y_score_rf = rf_model.predict_proba(X_test)[:, 1]"
   ]
  },
  {
   "cell_type": "markdown",
   "id": "2dddb121-e59f-472a-897d-ee49d4493106",
   "metadata": {},
   "source": [
    "Получим их метрики и значение порога при максимальном f1-score:"
   ]
  },
  {
   "cell_type": "code",
   "execution_count": 10,
   "id": "0678c94d-62a3-466f-b918-2302522a1a35",
   "metadata": {},
   "outputs": [
    {
     "name": "stdout",
     "output_type": "stream",
     "text": [
      "Best Threshold=0.3785471809601794, F-Score=0.735, Precision=0.640, Recall=0.865, ROC-AUC=0.786\n"
     ]
    }
   ],
   "source": [
    "threshold_lr, fscore_lr, precision_lr, recall_lr, roc_auc_score_lr = find_best_metrics(y_test, y_score_lr)"
   ]
  },
  {
   "cell_type": "code",
   "execution_count": 11,
   "id": "13599776-44c6-4c2c-9d55-e14c6f506c81",
   "metadata": {},
   "outputs": [
    {
     "name": "stdout",
     "output_type": "stream",
     "text": [
      "Best Threshold=0.4, F-Score=0.689, Precision=0.592, Recall=0.824, ROC-AUC=0.694\n"
     ]
    }
   ],
   "source": [
    "threshold_knn, fscore_knn, precision_knn, recall_knn, roc_auc_score_knn = find_best_metrics(y_test, y_score_knn)"
   ]
  },
  {
   "cell_type": "code",
   "execution_count": 12,
   "id": "62ddcf55-2fcc-4292-853d-aec0beb626a3",
   "metadata": {},
   "outputs": [
    {
     "name": "stdout",
     "output_type": "stream",
     "text": [
      "Best Threshold=0.38, F-Score=0.729, Precision=0.666, Recall=0.804, ROC-AUC=0.774\n"
     ]
    }
   ],
   "source": [
    "threshold_rf, fscore_rf, precision_rf, recall_rf, roc_auc_score_rf = find_best_metrics(y_test, y_score_rf)"
   ]
  },
  {
   "cell_type": "markdown",
   "id": "13ca2e61-d251-47b6-901b-6da26b7497af",
   "metadata": {},
   "source": [
    "Оформим метрики в виде таблицы:"
   ]
  },
  {
   "cell_type": "code",
   "execution_count": 13,
   "id": "2ca3e52b-fcf7-44aa-806a-66e727ca21d6",
   "metadata": {},
   "outputs": [
    {
     "data": {
      "text/html": [
       "<div>\n",
       "<style scoped>\n",
       "    .dataframe tbody tr th:only-of-type {\n",
       "        vertical-align: middle;\n",
       "    }\n",
       "\n",
       "    .dataframe tbody tr th {\n",
       "        vertical-align: top;\n",
       "    }\n",
       "\n",
       "    .dataframe thead th {\n",
       "        text-align: right;\n",
       "    }\n",
       "</style>\n",
       "<table border=\"1\" class=\"dataframe\">\n",
       "  <thead>\n",
       "    <tr style=\"text-align: right;\">\n",
       "      <th></th>\n",
       "      <th>F-score</th>\n",
       "      <th>Precision</th>\n",
       "      <th>Recall</th>\n",
       "      <th>ROC-AUC</th>\n",
       "    </tr>\n",
       "  </thead>\n",
       "  <tbody>\n",
       "    <tr>\n",
       "      <th>Logistic regression</th>\n",
       "      <td>0.735</td>\n",
       "      <td>0.640</td>\n",
       "      <td>0.865</td>\n",
       "      <td>0.786</td>\n",
       "    </tr>\n",
       "    <tr>\n",
       "      <th>k nearest neighbors</th>\n",
       "      <td>0.689</td>\n",
       "      <td>0.592</td>\n",
       "      <td>0.824</td>\n",
       "      <td>0.694</td>\n",
       "    </tr>\n",
       "    <tr>\n",
       "      <th>Random forest</th>\n",
       "      <td>0.729</td>\n",
       "      <td>0.666</td>\n",
       "      <td>0.804</td>\n",
       "      <td>0.774</td>\n",
       "    </tr>\n",
       "  </tbody>\n",
       "</table>\n",
       "</div>"
      ],
      "text/plain": [
       "                     F-score  Precision  Recall  ROC-AUC\n",
       "Logistic regression    0.735      0.640   0.865    0.786\n",
       "k nearest neighbors    0.689      0.592   0.824    0.694\n",
       "Random forest          0.729      0.666   0.804    0.774"
      ]
     },
     "execution_count": 13,
     "metadata": {},
     "output_type": "execute_result"
    }
   ],
   "source": [
    "models = ['Logistic regression', 'k nearest neighbors', 'Random forest']\n",
    "metrics = ['F-score', 'Precision', 'Recall', 'ROC-AUC']\n",
    "\n",
    "data = np.array([[fscore_lr, precision_lr, recall_lr, roc_auc_score_lr],\n",
    "                 [fscore_knn, precision_knn, recall_knn, roc_auc_score_knn],\n",
    "                 [fscore_rf, precision_rf, recall_rf, roc_auc_score_rf]])\n",
    "metrics_table = pd.DataFrame(data, index=models, columns=metrics)\n",
    "metrics_table"
   ]
  },
  {
   "cell_type": "markdown",
   "id": "db286992-27c0-4d6b-8c44-c45790e8f0f6",
   "metadata": {},
   "source": [
    "Логистическая регрессия чуть опережает случайный лес, knn сильно от них отстаёт.  \n",
    "Посмотрим, как модели покажут себя по бизнес-метрикам."
   ]
  },
  {
   "cell_type": "code",
   "execution_count": 14,
   "id": "73a8cd18-8ed0-43b9-ab30-cbe0e6a50006",
   "metadata": {},
   "outputs": [],
   "source": [
    "def calc_profit(y_test, y_score, threshold, \n",
    "                rubl_test=100, rubl_early_treatment=100, rubl_late_treatment=1000):\n",
    "    \n",
    "    cnf_matrix = confusion_matrix(y_test, y_score > threshold)\n",
    "    TN = cnf_matrix[0][0]\n",
    "    FN = cnf_matrix[1][0]\n",
    "    TP = cnf_matrix[1][1]\n",
    "    FP = cnf_matrix[0][1]\n",
    "    \n",
    "    rubl_1 = (FN + TP) * rubl_late_treatment\n",
    "    print('Расходы, если не делать тест и ждать симптомов:', rubl_1)\n",
    "    \n",
    "    rubl_test_all = np.sum(cnf_matrix) * rubl_test + (FN + TP) * rubl_early_treatment\n",
    "    print('Расходы, если делать тест всем и лечить группу больных:', rubl_test_all)\n",
    "    \n",
    "    rubl_ML = (FP + TP) * rubl_test + FN * rubl_late_treatment + TP * rubl_early_treatment\n",
    "    print('Расходы, если использовать ML:', rubl_ML, end='\\n\\n')\n",
    "    \n",
    "    print('Разница:\\n')\n",
    "    \n",
    "    print('Расходы \"решение не делать тесты - расходы с МL:\"', rubl_1 - rubl_ML)\n",
    "    print('Расходы \"решение не делать тесты - расходы сделать тесты всем\":', rubl_1 - rubl_test_all)\n",
    "    print('Расходы \"сделать тесты всем - решение делать тесты ML\":', rubl_test_all - rubl_ML)\n",
    "    \n",
    "    profit = min(rubl_1, rubl_test_all) - rubl_ML\n",
    "    \n",
    "    return profit"
   ]
  },
  {
   "cell_type": "code",
   "execution_count": 15,
   "id": "3af8c440-3ff1-48c9-a1bc-5acaff271ab4",
   "metadata": {},
   "outputs": [],
   "source": [
    "rubl_test = 1400\n",
    "rubl_early_treatment = 15000\n",
    "rubl_late_treatment = 20000"
   ]
  },
  {
   "cell_type": "markdown",
   "id": "076d7248-5d31-4707-8d3b-176549b17e5e",
   "metadata": {},
   "source": [
    "#### Логистическая регрессия:"
   ]
  },
  {
   "cell_type": "code",
   "execution_count": 16,
   "id": "2332ae3e-3b91-4d35-aa94-ecd80f64e615",
   "metadata": {},
   "outputs": [
    {
     "name": "stdout",
     "output_type": "stream",
     "text": [
      "Расходы, если не делать тест и ждать симптомов: 175820000\n",
      "Расходы, если делать тест всем и лечить группу больных: 156365000\n",
      "Расходы, если использовать ML: 154447000\n",
      "\n",
      "Разница:\n",
      "\n",
      "Расходы \"решение не делать тесты - расходы с МL:\" 21373000\n",
      "Расходы \"решение не делать тесты - расходы сделать тесты всем\": 19455000\n",
      "Расходы \"сделать тесты всем - решение делать тесты ML\": 1918000\n"
     ]
    }
   ],
   "source": [
    "profit_lr = calc_profit(y_test, y_score_lr, threshold_lr,\n",
    "                        rubl_test, rubl_early_treatment, rubl_late_treatment)"
   ]
  },
  {
   "cell_type": "markdown",
   "id": "1b6c8d76-7282-4e44-b2e9-9e3c69d7bb19",
   "metadata": {},
   "source": [
    "#### kNN:"
   ]
  },
  {
   "cell_type": "code",
   "execution_count": 17,
   "id": "0f3bca6f-fb5b-48bc-bed5-c8482e15602d",
   "metadata": {},
   "outputs": [
    {
     "name": "stdout",
     "output_type": "stream",
     "text": [
      "Расходы, если не делать тест и ждать симптомов: 175820000\n",
      "Расходы, если делать тест всем и лечить группу больных: 156365000\n",
      "Расходы, если использовать ML: 159847800\n",
      "\n",
      "Разница:\n",
      "\n",
      "Расходы \"решение не делать тесты - расходы с МL:\" 15972200\n",
      "Расходы \"решение не делать тесты - расходы сделать тесты всем\": 19455000\n",
      "Расходы \"сделать тесты всем - решение делать тесты ML\": -3482800\n"
     ]
    }
   ],
   "source": [
    "profit_knn = calc_profit(y_test, y_score_knn, threshold_knn,\n",
    "                        rubl_test, rubl_early_treatment, rubl_late_treatment)"
   ]
  },
  {
   "cell_type": "markdown",
   "id": "81dcf52a-1701-45b4-a84b-874166962b50",
   "metadata": {},
   "source": [
    "#### Random forest:"
   ]
  },
  {
   "cell_type": "code",
   "execution_count": 18,
   "id": "2d484f00-ccea-41f5-a1fd-9a0b77f54817",
   "metadata": {},
   "outputs": [
    {
     "name": "stdout",
     "output_type": "stream",
     "text": [
      "Расходы, если не делать тест и ждать симптомов: 175820000\n",
      "Расходы, если делать тест всем и лечить группу больных: 156365000\n",
      "Расходы, если использовать ML: 155444800\n",
      "\n",
      "Разница:\n",
      "\n",
      "Расходы \"решение не делать тесты - расходы с МL:\" 20375200\n",
      "Расходы \"решение не делать тесты - расходы сделать тесты всем\": 19455000\n",
      "Расходы \"сделать тесты всем - решение делать тесты ML\": 920200\n"
     ]
    }
   ],
   "source": [
    "profit_rf = calc_profit(y_test, y_score_rf, threshold_rf,\n",
    "                        rubl_test, rubl_early_treatment, rubl_late_treatment)"
   ]
  },
  {
   "cell_type": "markdown",
   "id": "1167722e-a36e-4c61-b213-05078826323a",
   "metadata": {},
   "source": [
    "#### Итог:"
   ]
  },
  {
   "cell_type": "code",
   "execution_count": 19,
   "id": "a5bebb39-3e04-4b95-a693-f8f5e10b8365",
   "metadata": {},
   "outputs": [
    {
     "data": {
      "text/html": [
       "<div>\n",
       "<style scoped>\n",
       "    .dataframe tbody tr th:only-of-type {\n",
       "        vertical-align: middle;\n",
       "    }\n",
       "\n",
       "    .dataframe tbody tr th {\n",
       "        vertical-align: top;\n",
       "    }\n",
       "\n",
       "    .dataframe thead th {\n",
       "        text-align: right;\n",
       "    }\n",
       "</style>\n",
       "<table border=\"1\" class=\"dataframe\">\n",
       "  <thead>\n",
       "    <tr style=\"text-align: right;\">\n",
       "      <th></th>\n",
       "      <th>Profit</th>\n",
       "    </tr>\n",
       "  </thead>\n",
       "  <tbody>\n",
       "    <tr>\n",
       "      <th>Logistic regression</th>\n",
       "      <td>1918000</td>\n",
       "    </tr>\n",
       "    <tr>\n",
       "      <th>k nearest neighbors</th>\n",
       "      <td>-3482800</td>\n",
       "    </tr>\n",
       "    <tr>\n",
       "      <th>Random forest</th>\n",
       "      <td>920200</td>\n",
       "    </tr>\n",
       "  </tbody>\n",
       "</table>\n",
       "</div>"
      ],
      "text/plain": [
       "                      Profit\n",
       "Logistic regression  1918000\n",
       "k nearest neighbors -3482800\n",
       "Random forest         920200"
      ]
     },
     "execution_count": 19,
     "metadata": {},
     "output_type": "execute_result"
    }
   ],
   "source": [
    "profits = np.array([profit_lr, profit_knn, profit_rf])\n",
    "profits_table = pd.DataFrame(profits, index=models, columns=['Profit'])\n",
    "profits_table"
   ]
  },
  {
   "cell_type": "markdown",
   "id": "81735d08-5833-4091-b616-6bbabb6bc3b7",
   "metadata": {},
   "source": [
    "Применение kNN обходится дороже, чем делать тесты всем. Наибольшую прибыль  \n",
    "с принятыми порогами классификации приносит модель логистической регрессии."
   ]
  },
  {
   "cell_type": "markdown",
   "id": "b6a77a6c-e23e-404f-b1d3-af9089a28870",
   "metadata": {},
   "source": [
    "Немного отступлю от условия домашней работы, где нужно найти порог классификации  \n",
    "по деньгам для лучшей на данный момент модели, так как для логистической регрессии  \n",
    "мы находили порог на уроке.  \n",
    "Посмотрим, сможет ли модель случайного леса подобраться к показателям логистической  \n",
    "регрессии по деньгам:"
   ]
  },
  {
   "cell_type": "code",
   "execution_count": 20,
   "id": "516ed6a2-7b3d-4e7c-a924-71a62db78c0d",
   "metadata": {},
   "outputs": [],
   "source": [
    "def business_threshold_calibrate(y_test, y_score, thresholds_range,\n",
    "                                 rubl_test=100, rubl_early_treatment=100, rubl_late_treatment=1000):\n",
    "\n",
    "    rubl_ML_ = np.inf\n",
    "\n",
    "    rs = []\n",
    "    for opt_business_tr in thresholds_range:\n",
    "        # подберем порог для улучшения бизнесс показателя\n",
    "\n",
    "        cnf_matrix = confusion_matrix(y_test, y_score > (opt_business_tr))\n",
    "        TN = cnf_matrix[0][0]\n",
    "        FN = cnf_matrix[1][0]\n",
    "        TP = cnf_matrix[1][1]\n",
    "        FP = cnf_matrix[0][1]\n",
    "\n",
    "        rubl_1 = (TP + FN) * rubl_late_treatment\n",
    "        rubl_test_all = np.sum(cnf_matrix) * rubl_test + (FN + TP) * rubl_early_treatment\n",
    "        rubl_ML = (TP + FP) * rubl_test + FN * rubl_late_treatment + TP * rubl_early_treatment\n",
    "        \n",
    "        if rubl_ML < rubl_ML_:            \n",
    "            business_threshold = opt_business_tr\n",
    "            \n",
    "            rubl_ML_ = rubl_ML\n",
    "            \n",
    "        rs.append(rubl_ML)   \n",
    "            \n",
    "    profit = min(rubl_1, rubl_test_all) - rubl_ML_\n",
    "    \n",
    "    print('расходы, если не делать тест и ждать симптомов:', rubl_1)\n",
    "    print('расходы, если делать тест всем и лечить группу больных:', rubl_test_all)\n",
    "    print('расходы, если использовать ML:', rubl_ML_)\n",
    "\n",
    "    print('Расходы \"решение не делать тесты - расходы с МL:\"', rubl_1 - rubl_ML_)\n",
    "    print('Расходы \"решение не делать тесты - расходы сделать тесты всем\":', rubl_1 - rubl_test_all)\n",
    "    print('Расходы \"сделать тесты всем - решение делать тесты ML\":', rubl_test_all - rubl_ML_)\n",
    "    \n",
    "    plt.rcParams.update({'font.size': 14})\n",
    "    plt.title('Потери при ML-решении')\n",
    "    plt.xlabel('Отсечка')\n",
    "    plt.ylabel('Потери')\n",
    "    plt.plot(thresholds_range, rs)\n",
    "    plt.grid()\n",
    "    plt.show()\n",
    "    \n",
    "    return business_threshold, profit"
   ]
  },
  {
   "cell_type": "code",
   "execution_count": 21,
   "id": "9d794bd4-c046-4d7c-85a7-b92e73971c70",
   "metadata": {},
   "outputs": [
    {
     "name": "stdout",
     "output_type": "stream",
     "text": [
      "расходы, если не делать тест и ждать симптомов: 175820000\n",
      "расходы, если делать тест всем и лечить группу больных: 156365000\n",
      "расходы, если использовать ML: 155003200\n",
      "Расходы \"решение не делать тесты - расходы с МL:\" 20816800\n",
      "Расходы \"решение не делать тесты - расходы сделать тесты всем\": 19455000\n",
      "Расходы \"сделать тесты всем - решение делать тесты ML\": 1361800\n"
     ]
    },
    {
     "data": {
      "image/png": "[encoded data removed]",
      "text/plain": [
       "<Figure size 432x288 with 1 Axes>"
      ]
     },
     "metadata": {
      "needs_background": "light"
     },
     "output_type": "display_data"
    }
   ],
   "source": [
    "thresholds_range = np.linspace(0, 1, 20)\n",
    "business_threshold_rf, new_profit_rf = business_threshold_calibrate(y_test, y_score_rf, thresholds_range,\n",
    "                                                                    rubl_test, rubl_early_treatment, rubl_late_treatment)"
   ]
  },
  {
   "cell_type": "markdown",
   "id": "041465b7-1c56-4a06-b3b7-fba58a3e3744",
   "metadata": {},
   "source": [
    "Дополнительная прибыль от настройки значения порога:"
   ]
  },
  {
   "cell_type": "code",
   "execution_count": 22,
   "id": "8a2dda05-04f1-4d23-af3b-0c5e3859584f",
   "metadata": {},
   "outputs": [
    {
     "data": {
      "text/plain": [
       "441600"
      ]
     },
     "execution_count": 22,
     "metadata": {},
     "output_type": "execute_result"
    }
   ],
   "source": [
    "new_profit_rf - profit_rf"
   ]
  },
  {
   "cell_type": "markdown",
   "id": "aae4c61c-6866-4b17-8e22-d022e977cda0",
   "metadata": {},
   "source": [
    "Попробуем более тонко настроить порог - возмём диапазон поиска от 0,2 до 0,4:"
   ]
  },
  {
   "cell_type": "code",
   "execution_count": 23,
   "id": "0a216da1-081f-4eac-8ce6-d19c8568ca9d",
   "metadata": {},
   "outputs": [
    {
     "name": "stdout",
     "output_type": "stream",
     "text": [
      "расходы, если не делать тест и ждать симптомов: 175820000\n",
      "расходы, если делать тест всем и лечить группу больных: 156365000\n",
      "расходы, если использовать ML: 154977200\n",
      "Расходы \"решение не делать тесты - расходы с МL:\" 20842800\n",
      "Расходы \"решение не делать тесты - расходы сделать тесты всем\": 19455000\n",
      "Расходы \"сделать тесты всем - решение делать тесты ML\": 1387800\n"
     ]
    },
    {
     "data": {
      "image/png": "[encoded data removed]",
      "text/plain": [
       "<Figure size 432x288 with 1 Axes>"
      ]
     },
     "metadata": {
      "needs_background": "light"
     },
     "output_type": "display_data"
    }
   ],
   "source": [
    "thresholds_range = np.linspace(0.2, 0.4, 20)\n",
    "business_threshold_rf, new_profit_rf = business_threshold_calibrate(y_test, y_score_rf, thresholds_range,\n",
    "                                                                    rubl_test, rubl_early_treatment, rubl_late_treatment)"
   ]
  },
  {
   "cell_type": "markdown",
   "id": "1179fe04-68fb-47f2-8910-c508cea53668",
   "metadata": {},
   "source": [
    "Теперь дополнительная прибыль от настройки значения порога:"
   ]
  },
  {
   "cell_type": "code",
   "execution_count": 24,
   "id": "d5728e13-6b8b-47e1-9849-4762dac08aac",
   "metadata": {},
   "outputs": [
    {
     "data": {
      "text/plain": [
       "467600"
      ]
     },
     "execution_count": 24,
     "metadata": {},
     "output_type": "execute_result"
    }
   ],
   "source": [
    "new_profit_rf - profit_rf"
   ]
  },
  {
   "cell_type": "markdown",
   "id": "1c947488-aaa8-41ee-9aa3-bdb3723c9543",
   "metadata": {},
   "source": [
    "Сравним значения порогов по f1-метрике и по бизнес-метрике:"
   ]
  },
  {
   "cell_type": "code",
   "execution_count": 25,
   "id": "4e42ad04-8ace-40b4-9273-5d07027715e8",
   "metadata": {},
   "outputs": [
    {
     "name": "stdout",
     "output_type": "stream",
     "text": [
      "Уровень порога по бизнес-метрике 0.2736842105263158\n",
      "Уровень порога по f1-метрике 0.38\n"
     ]
    }
   ],
   "source": [
    "print('Уровень порога по бизнес-метрике', business_threshold_rf)\n",
    "print('Уровень порога по f1-метрике', threshold_rf)"
   ]
  },
  {
   "cell_type": "markdown",
   "id": "7103177e-ecf4-46d4-82b2-2f9fd4a91616",
   "metadata": {},
   "source": [
    "Посмотрим, на сколько мы всё ещё отстаём от модели логистической регрессии,  \n",
    "у которой значение порога настраивалось только по максимальному f1-score:"
   ]
  },
  {
   "cell_type": "code",
   "execution_count": 26,
   "id": "8d93a617-ad79-42ca-81ee-a1818258bf6e",
   "metadata": {},
   "outputs": [
    {
     "data": {
      "text/plain": [
       "-530200"
      ]
     },
     "execution_count": 26,
     "metadata": {},
     "output_type": "execute_result"
    }
   ],
   "source": [
    "new_profit_rf - profit_lr"
   ]
  }
 ],
 "metadata": {
  "kernelspec": {
   "display_name": "Python 3 (ipykernel)",
   "language": "python",
   "name": "python3"
  },
  "language_info": {
   "codemirror_mode": {
    "name": "ipython",
    "version": 3
   },
   "file_extension": ".py",
   "mimetype": "text/x-python",
   "name": "python",
   "nbconvert_exporter": "python",
   "pygments_lexer": "ipython3",
   "version": "3.10.2"
  }
 },
 "nbformat": 4,
 "nbformat_minor": 5
}
