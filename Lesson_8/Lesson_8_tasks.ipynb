{
 "cells": [
  {
   "cell_type": "markdown",
   "id": "70e91145-3a9e-4b57-9e4b-8eed1545a365",
   "metadata": {},
   "source": [
    "## Практическое задание к уроку № 8 по теме \"A/B-тестирование\"."
   ]
  },
  {
   "cell_type": "markdown",
   "id": "a26d0358-ee2e-4033-a6ae-07aae98bcc97",
   "metadata": {
    "id": "0jNrzDzgdjNS"
   },
   "source": [
    "Взять датасет из google диска: https://drive.google.com/file/d/1MpWBFIbqu4mbiD0BBKYX6YhS-f4mN3Z_.  \n",
    "Проверить гипотезу о том, в каком варианте теста (control/personalization) больше конверсия (converted) и значимо ли это отличие статистически."
   ]
  },
  {
   "cell_type": "code",
   "execution_count": 1,
   "id": "2692dcb8-464f-45dd-a737-e94deb2df006",
   "metadata": {},
   "outputs": [],
   "source": [
    "import numpy as np\n",
    "import pandas as pd\n",
    "import scipy.stats as stats\n",
    "from statsmodels.stats import proportion"
   ]
  },
  {
   "cell_type": "markdown",
   "id": "0381553f-76b9-4f17-9fed-3ec35070c9d0",
   "metadata": {},
   "source": [
    "Импортируем датасет:"
   ]
  },
  {
   "cell_type": "code",
   "execution_count": 2,
   "id": "81b57463-0cea-4cfd-9d07-fabf1daaa862",
   "metadata": {},
   "outputs": [
    {
     "name": "stdout",
     "output_type": "stream",
     "text": [
      "(10037, 6)\n"
     ]
    },
    {
     "data": {
      "text/html": [
       "<div>\n",
       "<style scoped>\n",
       "    .dataframe tbody tr th:only-of-type {\n",
       "        vertical-align: middle;\n",
       "    }\n",
       "\n",
       "    .dataframe tbody tr th {\n",
       "        vertical-align: top;\n",
       "    }\n",
       "\n",
       "    .dataframe thead th {\n",
       "        text-align: right;\n",
       "    }\n",
       "</style>\n",
       "<table border=\"1\" class=\"dataframe\">\n",
       "  <thead>\n",
       "    <tr style=\"text-align: right;\">\n",
       "      <th></th>\n",
       "      <th>user_id</th>\n",
       "      <th>date_served</th>\n",
       "      <th>marketing_channel</th>\n",
       "      <th>variant</th>\n",
       "      <th>language_displayed</th>\n",
       "      <th>converted</th>\n",
       "    </tr>\n",
       "  </thead>\n",
       "  <tbody>\n",
       "    <tr>\n",
       "      <th>0</th>\n",
       "      <td>a1000</td>\n",
       "      <td>1/1/18</td>\n",
       "      <td>House Ads</td>\n",
       "      <td>personalization</td>\n",
       "      <td>English</td>\n",
       "      <td>True</td>\n",
       "    </tr>\n",
       "    <tr>\n",
       "      <th>1</th>\n",
       "      <td>a1001</td>\n",
       "      <td>1/1/18</td>\n",
       "      <td>House Ads</td>\n",
       "      <td>personalization</td>\n",
       "      <td>English</td>\n",
       "      <td>True</td>\n",
       "    </tr>\n",
       "    <tr>\n",
       "      <th>2</th>\n",
       "      <td>a1002</td>\n",
       "      <td>1/1/18</td>\n",
       "      <td>House Ads</td>\n",
       "      <td>personalization</td>\n",
       "      <td>English</td>\n",
       "      <td>True</td>\n",
       "    </tr>\n",
       "    <tr>\n",
       "      <th>3</th>\n",
       "      <td>a1003</td>\n",
       "      <td>1/1/18</td>\n",
       "      <td>House Ads</td>\n",
       "      <td>personalization</td>\n",
       "      <td>English</td>\n",
       "      <td>True</td>\n",
       "    </tr>\n",
       "    <tr>\n",
       "      <th>4</th>\n",
       "      <td>a1004</td>\n",
       "      <td>1/1/18</td>\n",
       "      <td>House Ads</td>\n",
       "      <td>personalization</td>\n",
       "      <td>English</td>\n",
       "      <td>True</td>\n",
       "    </tr>\n",
       "  </tbody>\n",
       "</table>\n",
       "</div>"
      ],
      "text/plain": [
       "  user_id date_served marketing_channel          variant language_displayed  \\\n",
       "0   a1000      1/1/18         House Ads  personalization            English   \n",
       "1   a1001      1/1/18         House Ads  personalization            English   \n",
       "2   a1002      1/1/18         House Ads  personalization            English   \n",
       "3   a1003      1/1/18         House Ads  personalization            English   \n",
       "4   a1004      1/1/18         House Ads  personalization            English   \n",
       "\n",
       "  converted  \n",
       "0      True  \n",
       "1      True  \n",
       "2      True  \n",
       "3      True  \n",
       "4      True  "
      ]
     },
     "execution_count": 2,
     "metadata": {},
     "output_type": "execute_result"
    }
   ],
   "source": [
    "df = pd.read_csv('marketing_campaign.csv')\n",
    "print(df.shape)\n",
    "df.head()"
   ]
  },
  {
   "cell_type": "code",
   "execution_count": 3,
   "id": "25a59468-2514-4ac7-97b2-8171da97cb28",
   "metadata": {},
   "outputs": [
    {
     "name": "stdout",
     "output_type": "stream",
     "text": [
      "<class 'pandas.core.frame.DataFrame'>\n",
      "RangeIndex: 10037 entries, 0 to 10036\n",
      "Data columns (total 6 columns):\n",
      " #   Column              Non-Null Count  Dtype \n",
      "---  ------              --------------  ----- \n",
      " 0   user_id             10037 non-null  object\n",
      " 1   date_served         10021 non-null  object\n",
      " 2   marketing_channel   10022 non-null  object\n",
      " 3   variant             10037 non-null  object\n",
      " 4   language_displayed  10037 non-null  object\n",
      " 5   converted           10022 non-null  object\n",
      "dtypes: object(6)\n",
      "memory usage: 470.6+ KB\n"
     ]
    }
   ],
   "source": [
    "df.info()"
   ]
  },
  {
   "cell_type": "markdown",
   "id": "25477b28-d774-48fd-9b79-ecc404694d68",
   "metadata": {},
   "source": [
    "Посмотрим количество пропусков:"
   ]
  },
  {
   "cell_type": "code",
   "execution_count": 4,
   "id": "52c02bb3-d6b5-4cfc-9fac-a543105b02b8",
   "metadata": {},
   "outputs": [
    {
     "data": {
      "text/plain": [
       "user_id                0\n",
       "date_served           16\n",
       "marketing_channel     15\n",
       "variant                0\n",
       "language_displayed     0\n",
       "converted             15\n",
       "dtype: int64"
      ]
     },
     "execution_count": 4,
     "metadata": {},
     "output_type": "execute_result"
    }
   ],
   "source": [
    "df.isna().sum()"
   ]
  },
  {
   "cell_type": "markdown",
   "id": "85130c53-31cc-488c-aa45-12cddb928595",
   "metadata": {},
   "source": [
    "Заполним пропуски в нужном нам столбце *converted* модой:"
   ]
  },
  {
   "cell_type": "code",
   "execution_count": 5,
   "id": "bd4e38eb-80fc-4c6e-930e-4dfc2c1b0362",
   "metadata": {},
   "outputs": [],
   "source": [
    "df['converted'].fillna(df['converted'].value_counts().index[0], inplace=True)"
   ]
  },
  {
   "cell_type": "markdown",
   "id": "e57518d3-1d74-4220-b5b4-2c84a7064723",
   "metadata": {},
   "source": [
    "Посмотрим соотношение значений в наших столбцах:"
   ]
  },
  {
   "cell_type": "code",
   "execution_count": 6,
   "id": "6c6b7c10-6277-4bec-98fb-f1200ebd058b",
   "metadata": {},
   "outputs": [
    {
     "data": {
      "text/plain": [
       "control            5091\n",
       "personalization    4946\n",
       "Name: variant, dtype: int64"
      ]
     },
     "execution_count": 6,
     "metadata": {},
     "output_type": "execute_result"
    }
   ],
   "source": [
    "df['variant'].value_counts()"
   ]
  },
  {
   "cell_type": "markdown",
   "id": "3a8f8643-0314-408e-bb9e-a1f2ef947c60",
   "metadata": {},
   "source": [
    "*control* соответствует группе А, где мы не осуществляли воздействие,  \n",
    "*personalization* соответствует группе Б, где воздействие осуществялось."
   ]
  },
  {
   "cell_type": "code",
   "execution_count": 7,
   "id": "c080875c-cf8c-4d7f-8b07-836efaaa471e",
   "metadata": {},
   "outputs": [
    {
     "data": {
      "text/plain": [
       "False    8961\n",
       "True     1076\n",
       "Name: converted, dtype: int64"
      ]
     },
     "execution_count": 7,
     "metadata": {},
     "output_type": "execute_result"
    }
   ],
   "source": [
    "df['converted'].value_counts()"
   ]
  },
  {
   "cell_type": "markdown",
   "id": "4a6cff0d-87fe-45e7-ac37-5989fd39918f",
   "metadata": {},
   "source": [
    "Конвертируем строковые значения булевого признака в числовые:"
   ]
  },
  {
   "cell_type": "code",
   "execution_count": 8,
   "id": "36216f07-5faa-4fd8-94b4-7ad611d10380",
   "metadata": {},
   "outputs": [],
   "source": [
    "df['converted'] = df['converted'].astype('int')"
   ]
  },
  {
   "cell_type": "markdown",
   "id": "ec1cf63a-ba73-40d2-bfc2-8b3bb8280fda",
   "metadata": {},
   "source": [
    "Посмотрим общее значение конверсии для обеих групп:"
   ]
  },
  {
   "cell_type": "code",
   "execution_count": 9,
   "id": "dc9d9087-efcf-47f6-8fd3-de68472ea9db",
   "metadata": {},
   "outputs": [
    {
     "data": {
      "text/plain": [
       "0.10720334761382884"
      ]
     },
     "execution_count": 9,
     "metadata": {},
     "output_type": "execute_result"
    }
   ],
   "source": [
    "df['converted'].sum() / df.shape[0]"
   ]
  },
  {
   "cell_type": "markdown",
   "id": "de1d687b-e8b5-433c-9e2d-efff9754c8b7",
   "metadata": {},
   "source": [
    "Обозначим переменные для проведения статистического теста:"
   ]
  },
  {
   "cell_type": "code",
   "execution_count": 10,
   "id": "d43d85b5-74ee-49c3-bdbb-55d34f3f2c56",
   "metadata": {},
   "outputs": [
    {
     "data": {
      "text/plain": [
       "(371, 5091, 705, 4946)"
      ]
     },
     "execution_count": 10,
     "metadata": {},
     "output_type": "execute_result"
    }
   ],
   "source": [
    "# Группа А\n",
    "k1 = df[df['variant'] == 'control']['converted'].sum()\n",
    "n1 = df[df['variant'] == 'control'].shape[0]\n",
    "\n",
    "# Группа Б\n",
    "k2 = df[df['variant'] == 'personalization']['converted'].sum()\n",
    "n2 = df[df['variant'] == 'personalization'].shape[0]\n",
    "\n",
    "k1, n1, k2, n2"
   ]
  },
  {
   "cell_type": "markdown",
   "id": "9d3e6792-c9c2-4b7e-a25c-50a528e2926f",
   "metadata": {},
   "source": [
    "Конверсия группа А:"
   ]
  },
  {
   "cell_type": "code",
   "execution_count": 11,
   "id": "82b892ae-670e-40fe-b583-d88a57cc5b37",
   "metadata": {},
   "outputs": [
    {
     "data": {
      "text/plain": [
       "0.07287369868395208"
      ]
     },
     "execution_count": 11,
     "metadata": {},
     "output_type": "execute_result"
    }
   ],
   "source": [
    "k1 / n1"
   ]
  },
  {
   "cell_type": "markdown",
   "id": "20287f1a-85d5-446a-94e1-69c0cc019bca",
   "metadata": {},
   "source": [
    "Конверсия группы Б:"
   ]
  },
  {
   "cell_type": "code",
   "execution_count": 12,
   "id": "7848c784-8a05-4ab9-93e9-91ee13e6aaf2",
   "metadata": {},
   "outputs": [
    {
     "data": {
      "text/plain": [
       "0.14253942579862516"
      ]
     },
     "execution_count": 12,
     "metadata": {},
     "output_type": "execute_result"
    }
   ],
   "source": [
    "k2 / n2"
   ]
  },
  {
   "cell_type": "markdown",
   "id": "e3a56ba9-21f2-4d2c-a213-affd3b66fddc",
   "metadata": {},
   "source": [
    "Видим, что конверсия группы Б примерно в 2 раза превышает конверсию группы А.  \n",
    "Посмотрим, является ли эта разница статистически значимой.  \n",
    "Проведём z-тест и тест по критерию хи-квадрат:"
   ]
  },
  {
   "cell_type": "code",
   "execution_count": 13,
   "id": "09d99000-1696-48f0-a329-548f9781418d",
   "metadata": {},
   "outputs": [
    {
     "name": "stdout",
     "output_type": "stream",
     "text": [
      "z_score = -11.279, p-value = 0.000\n"
     ]
    }
   ],
   "source": [
    "z_score, z_pvalue = proportion.proportions_ztest(np.array([k1, k2]),\n",
    "                                                 np.array([n1, n2]))\n",
    "print(f'z_score = {z_score:.3f}, p-value = {z_pvalue:.3f}')"
   ]
  },
  {
   "cell_type": "code",
   "execution_count": 14,
   "id": "8e20562c-5300-4148-81b6-f0d5dfa9b1d3",
   "metadata": {},
   "outputs": [
    {
     "name": "stdout",
     "output_type": "stream",
     "text": [
      "chisq_score = 127.213, p-value = 0.000\n"
     ]
    }
   ],
   "source": [
    "chisq, chi_pvalue, table = proportion.proportions_chisquare(np.array([k1, k2]),\n",
    "                                                            np.array([n1, n2]))\n",
    "print(f'chisq_score = {chisq:.3f}, p-value = {chi_pvalue:.3f}')"
   ]
  },
  {
   "cell_type": "markdown",
   "id": "a3c8cfe9-6b79-4517-a22b-fc963ff55310",
   "metadata": {},
   "source": [
    "Оба теста показали, что нулевая гипотеза, которая говорит о том,  \n",
    "что разница между получившимися конверсиями является случайной,  \n",
    "с высокой долей вероятности является ложной.  \n",
    "Таким образом считаем, что после применения персонализации конверсия  \n",
    "изменилась значительно."
   ]
  },
  {
   "cell_type": "markdown",
   "id": "c6798b30-e30e-4b43-a53e-667163bd62ec",
   "metadata": {},
   "source": [
    "Попробуем также встроенный в библиотеку scipy двухвыборочный t-тест:"
   ]
  },
  {
   "cell_type": "code",
   "execution_count": 15,
   "id": "6ca300ad-8580-4221-9216-37d7ec45d975",
   "metadata": {},
   "outputs": [
    {
     "name": "stdout",
     "output_type": "stream",
     "text": [
      "t_score = -11.303, p-value = 0.000\n"
     ]
    }
   ],
   "source": [
    "t_score, t_pvalue = stats.ttest_ind(df[df['variant'] == 'control']['converted'],\n",
    "                                    df[df['variant'] == 'personalization']['converted'],\n",
    "                                    equal_var=False)\n",
    "print(f't_score = {t_score:.3f}, p-value = {t_pvalue:.3f}')"
   ]
  },
  {
   "cell_type": "markdown",
   "id": "9ef34206-def6-4716-a0ee-7c928d1393f5",
   "metadata": {},
   "source": [
    "Получили аналогичный результат."
   ]
  }
 ],
 "metadata": {
  "kernelspec": {
   "display_name": "Python 3 (ipykernel)",
   "language": "python",
   "name": "python3"
  },
  "language_info": {
   "codemirror_mode": {
    "name": "ipython",
    "version": 3
   },
   "file_extension": ".py",
   "mimetype": "text/x-python",
   "name": "python",
   "nbconvert_exporter": "python",
   "pygments_lexer": "ipython3",
   "version": "3.10.2"
  }
 },
 "nbformat": 4,
 "nbformat_minor": 5
}
