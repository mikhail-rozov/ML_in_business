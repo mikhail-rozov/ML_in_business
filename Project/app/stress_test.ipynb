{
 "cells": [
  {
   "cell_type": "code",
   "execution_count": 1,
   "id": "710371e4-cf92-4b9a-9b67-fac5faabd101",
   "metadata": {},
   "outputs": [],
   "source": [
    "import pandas as pd\n",
    "from sklearn.metrics import f1_score\n",
    "from client import make_request"
   ]
  },
  {
   "cell_type": "code",
   "execution_count": 2,
   "id": "439ce3aa-eb95-403f-ac82-502f56d22d0b",
   "metadata": {},
   "outputs": [],
   "source": [
    "X_test = pd.read_csv('models/X_test.csv', index_col='PassengerId')\n",
    "y_test = pd.read_csv('models/y_test.csv', index_col='PassengerId')"
   ]
  },
  {
   "cell_type": "code",
   "execution_count": 3,
   "id": "a82ff273-3680-4e2c-a675-42dfcf6d2e56",
   "metadata": {},
   "outputs": [
    {
     "data": {
      "text/plain": [
       "(223, 11)"
      ]
     },
     "execution_count": 3,
     "metadata": {},
     "output_type": "execute_result"
    }
   ],
   "source": [
    "X_test.shape"
   ]
  },
  {
   "cell_type": "code",
   "execution_count": 4,
   "id": "34571888-b952-43cc-85a6-c6059d1fe0a9",
   "metadata": {},
   "outputs": [
    {
     "name": "stdout",
     "output_type": "stream",
     "text": [
      "<class 'pandas.core.frame.DataFrame'>\n",
      "Int64Index: 223 entries, 492 to 465\n",
      "Data columns (total 11 columns):\n",
      " #   Column    Non-Null Count  Dtype  \n",
      "---  ------    --------------  -----  \n",
      " 0   Survived  223 non-null    int64  \n",
      " 1   Pclass    223 non-null    int64  \n",
      " 2   Name      223 non-null    object \n",
      " 3   Sex       223 non-null    object \n",
      " 4   Age       176 non-null    float64\n",
      " 5   SibSp     223 non-null    int64  \n",
      " 6   Parch     223 non-null    int64  \n",
      " 7   Ticket    223 non-null    object \n",
      " 8   Fare      223 non-null    float64\n",
      " 9   Cabin     51 non-null     object \n",
      " 10  Embarked  222 non-null    object \n",
      "dtypes: float64(2), int64(4), object(5)\n",
      "memory usage: 20.9+ KB\n"
     ]
    }
   ],
   "source": [
    "X_test.info()"
   ]
  },
  {
   "cell_type": "code",
   "execution_count": 5,
   "id": "f61a4a6e-ffed-456b-be77-ff98b119bffc",
   "metadata": {},
   "outputs": [],
   "source": [
    "X_test['Age'].fillna(X_test['Age'].median(), inplace=True)"
   ]
  },
  {
   "cell_type": "code",
   "execution_count": 6,
   "id": "99944ceb-a47a-4fd3-b423-a5a07a6e6201",
   "metadata": {},
   "outputs": [],
   "source": [
    "X_test['Pclass'] = X_test['Pclass'].astype('float')"
   ]
  },
  {
   "cell_type": "code",
   "execution_count": 7,
   "id": "5c13d742-10a1-4357-8d7f-70062a0b18df",
   "metadata": {},
   "outputs": [
    {
     "data": {
      "text/plain": [
       "0"
      ]
     },
     "execution_count": 7,
     "metadata": {},
     "output_type": "execute_result"
    }
   ],
   "source": [
    "make_request(X_test[['Age', 'Pclass', 'Sex']].iloc[0, :])"
   ]
  },
  {
   "cell_type": "code",
   "execution_count": 8,
   "id": "6851cccf-c063-4834-aaa0-b5a09c6946eb",
   "metadata": {},
   "outputs": [
    {
     "name": "stdout",
     "output_type": "stream",
     "text": [
      "CPU times: user 241 ms, sys: 15.8 ms, total: 257 ms\n",
      "Wall time: 2.21 s\n"
     ]
    }
   ],
   "source": [
    "%%time\n",
    "\n",
    "y_preds = X_test[['Age', 'Pclass', 'Sex']].apply(lambda x: make_request(x), axis=1)"
   ]
  },
  {
   "cell_type": "code",
   "execution_count": 9,
   "id": "87f5f75a-ee2d-4cb3-9143-747d3a460d64",
   "metadata": {},
   "outputs": [
    {
     "data": {
      "text/plain": [
       "0.6635071090047393"
      ]
     },
     "execution_count": 9,
     "metadata": {},
     "output_type": "execute_result"
    }
   ],
   "source": [
    "f1_score(y_test, y_preds)"
   ]
  }
 ],
 "metadata": {
  "kernelspec": {
   "display_name": "Python 3 (ipykernel)",
   "language": "python",
   "name": "python3"
  },
  "language_info": {
   "codemirror_mode": {
    "name": "ipython",
    "version": 3
   },
   "file_extension": ".py",
   "mimetype": "text/x-python",
   "name": "python",
   "nbconvert_exporter": "python",
   "pygments_lexer": "ipython3",
   "version": "3.9.7"
  }
 },
 "nbformat": 4,
 "nbformat_minor": 5
}
