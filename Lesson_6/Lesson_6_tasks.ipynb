{
 "cells": [
  {
   "cell_type": "markdown",
   "id": "09e9ac21-94f9-4138-99e7-f9f3810fbb61",
   "metadata": {},
   "source": [
    "## Практическое задание к уроку № 6 по теме \"Задача look-alike\"."
   ]
  },
  {
   "cell_type": "markdown",
   "id": "a06326d5-85bb-4db5-8fe5-09a336f1bca6",
   "metadata": {},
   "source": [
    "1. Взять любой набор данных для бинарной классификации\n",
    "2. Обучить любой классификатор (какой вам нравится)\n",
    "3. Разделить ваш набор данных на два множества: P (positives) и U (unlabeled). Причем брать нужно не все положительные примеры (класс 1), а только лишь часть\n",
    "4. Применить random negative sampling для построения классификатора в новых условиях\n",
    "5. Сравнить качество с решением из пункта 3 (построить отчет - таблицу метрик)\n",
    "6. *Поэкспериментировать с долей P на шаге 5 (как будет меняться качество модели при уменьшении/увеличении размера P)"
   ]
  },
  {
   "cell_type": "code",
   "execution_count": 1,
   "id": "aaa80892-5a9e-482f-9bce-0298194321e0",
   "metadata": {},
   "outputs": [],
   "source": [
    "import matplotlib.pyplot as plt\n",
    "import numpy as np\n",
    "import pandas as pd\n",
    "from sklearn.base import BaseEstimator, TransformerMixin\n",
    "from sklearn.ensemble import GradientBoostingClassifier\n",
    "from sklearn.metrics import accuracy_score, f1_score\n",
    "from sklearn.model_selection import train_test_split\n",
    "from sklearn.pipeline import FeatureUnion, Pipeline\n",
    "# from sklearn.preprocessing import StandardScaler"
   ]
  },
  {
   "cell_type": "markdown",
   "id": "1826ee64-b15f-46d4-a58a-e0c2761ff05e",
   "metadata": {},
   "source": [
    "Возьмём датасет для бинарной классификации цитрусов, является ли цитрус апельсином или грейпфрутом.  \n",
    "https://www.kaggle.com/datasets/joshmcadams/oranges-vs-grapefruit"
   ]
  },
  {
   "cell_type": "code",
   "execution_count": 2,
   "id": "ec4bff6d-e432-44ac-9234-c6aae6686da0",
   "metadata": {},
   "outputs": [
    {
     "data": {
      "text/html": [
       "<div>\n",
       "<style scoped>\n",
       "    .dataframe tbody tr th:only-of-type {\n",
       "        vertical-align: middle;\n",
       "    }\n",
       "\n",
       "    .dataframe tbody tr th {\n",
       "        vertical-align: top;\n",
       "    }\n",
       "\n",
       "    .dataframe thead th {\n",
       "        text-align: right;\n",
       "    }\n",
       "</style>\n",
       "<table border=\"1\" class=\"dataframe\">\n",
       "  <thead>\n",
       "    <tr style=\"text-align: right;\">\n",
       "      <th></th>\n",
       "      <th>name</th>\n",
       "      <th>diameter</th>\n",
       "      <th>weight</th>\n",
       "      <th>red</th>\n",
       "      <th>green</th>\n",
       "      <th>blue</th>\n",
       "    </tr>\n",
       "  </thead>\n",
       "  <tbody>\n",
       "    <tr>\n",
       "      <th>0</th>\n",
       "      <td>orange</td>\n",
       "      <td>2.96</td>\n",
       "      <td>86.76</td>\n",
       "      <td>172</td>\n",
       "      <td>85</td>\n",
       "      <td>2</td>\n",
       "    </tr>\n",
       "    <tr>\n",
       "      <th>1</th>\n",
       "      <td>orange</td>\n",
       "      <td>3.91</td>\n",
       "      <td>88.05</td>\n",
       "      <td>166</td>\n",
       "      <td>78</td>\n",
       "      <td>3</td>\n",
       "    </tr>\n",
       "    <tr>\n",
       "      <th>2</th>\n",
       "      <td>orange</td>\n",
       "      <td>4.42</td>\n",
       "      <td>95.17</td>\n",
       "      <td>156</td>\n",
       "      <td>81</td>\n",
       "      <td>2</td>\n",
       "    </tr>\n",
       "    <tr>\n",
       "      <th>3</th>\n",
       "      <td>orange</td>\n",
       "      <td>4.47</td>\n",
       "      <td>95.60</td>\n",
       "      <td>163</td>\n",
       "      <td>81</td>\n",
       "      <td>4</td>\n",
       "    </tr>\n",
       "    <tr>\n",
       "      <th>4</th>\n",
       "      <td>orange</td>\n",
       "      <td>4.48</td>\n",
       "      <td>95.76</td>\n",
       "      <td>161</td>\n",
       "      <td>72</td>\n",
       "      <td>9</td>\n",
       "    </tr>\n",
       "  </tbody>\n",
       "</table>\n",
       "</div>"
      ],
      "text/plain": [
       "     name  diameter  weight  red  green  blue\n",
       "0  orange      2.96   86.76  172     85     2\n",
       "1  orange      3.91   88.05  166     78     3\n",
       "2  orange      4.42   95.17  156     81     2\n",
       "3  orange      4.47   95.60  163     81     4\n",
       "4  orange      4.48   95.76  161     72     9"
      ]
     },
     "execution_count": 2,
     "metadata": {},
     "output_type": "execute_result"
    }
   ],
   "source": [
    "df = pd.read_csv('citrus.csv')\n",
    "df.head()"
   ]
  },
  {
   "cell_type": "code",
   "execution_count": 3,
   "id": "6d2329c1-c583-40e6-824d-091e43529adf",
   "metadata": {},
   "outputs": [
    {
     "data": {
      "text/html": [
       "<div>\n",
       "<style scoped>\n",
       "    .dataframe tbody tr th:only-of-type {\n",
       "        vertical-align: middle;\n",
       "    }\n",
       "\n",
       "    .dataframe tbody tr th {\n",
       "        vertical-align: top;\n",
       "    }\n",
       "\n",
       "    .dataframe thead th {\n",
       "        text-align: right;\n",
       "    }\n",
       "</style>\n",
       "<table border=\"1\" class=\"dataframe\">\n",
       "  <thead>\n",
       "    <tr style=\"text-align: right;\">\n",
       "      <th></th>\n",
       "      <th>diameter</th>\n",
       "      <th>weight</th>\n",
       "      <th>red</th>\n",
       "      <th>green</th>\n",
       "      <th>blue</th>\n",
       "    </tr>\n",
       "  </thead>\n",
       "  <tbody>\n",
       "    <tr>\n",
       "      <th>count</th>\n",
       "      <td>10000.000000</td>\n",
       "      <td>10000.000000</td>\n",
       "      <td>10000.000000</td>\n",
       "      <td>10000.000000</td>\n",
       "      <td>10000.000000</td>\n",
       "    </tr>\n",
       "    <tr>\n",
       "      <th>mean</th>\n",
       "      <td>9.975685</td>\n",
       "      <td>175.050792</td>\n",
       "      <td>153.847800</td>\n",
       "      <td>76.010600</td>\n",
       "      <td>11.363200</td>\n",
       "    </tr>\n",
       "    <tr>\n",
       "      <th>std</th>\n",
       "      <td>1.947844</td>\n",
       "      <td>29.212119</td>\n",
       "      <td>10.432954</td>\n",
       "      <td>11.708433</td>\n",
       "      <td>9.061275</td>\n",
       "    </tr>\n",
       "    <tr>\n",
       "      <th>min</th>\n",
       "      <td>2.960000</td>\n",
       "      <td>86.760000</td>\n",
       "      <td>115.000000</td>\n",
       "      <td>31.000000</td>\n",
       "      <td>2.000000</td>\n",
       "    </tr>\n",
       "    <tr>\n",
       "      <th>25%</th>\n",
       "      <td>8.460000</td>\n",
       "      <td>152.220000</td>\n",
       "      <td>147.000000</td>\n",
       "      <td>68.000000</td>\n",
       "      <td>2.000000</td>\n",
       "    </tr>\n",
       "    <tr>\n",
       "      <th>50%</th>\n",
       "      <td>9.980000</td>\n",
       "      <td>174.985000</td>\n",
       "      <td>154.000000</td>\n",
       "      <td>76.000000</td>\n",
       "      <td>10.000000</td>\n",
       "    </tr>\n",
       "    <tr>\n",
       "      <th>75%</th>\n",
       "      <td>11.480000</td>\n",
       "      <td>197.722500</td>\n",
       "      <td>161.000000</td>\n",
       "      <td>84.000000</td>\n",
       "      <td>17.000000</td>\n",
       "    </tr>\n",
       "    <tr>\n",
       "      <th>max</th>\n",
       "      <td>16.450000</td>\n",
       "      <td>261.510000</td>\n",
       "      <td>192.000000</td>\n",
       "      <td>116.000000</td>\n",
       "      <td>56.000000</td>\n",
       "    </tr>\n",
       "  </tbody>\n",
       "</table>\n",
       "</div>"
      ],
      "text/plain": [
       "           diameter        weight           red         green          blue\n",
       "count  10000.000000  10000.000000  10000.000000  10000.000000  10000.000000\n",
       "mean       9.975685    175.050792    153.847800     76.010600     11.363200\n",
       "std        1.947844     29.212119     10.432954     11.708433      9.061275\n",
       "min        2.960000     86.760000    115.000000     31.000000      2.000000\n",
       "25%        8.460000    152.220000    147.000000     68.000000      2.000000\n",
       "50%        9.980000    174.985000    154.000000     76.000000     10.000000\n",
       "75%       11.480000    197.722500    161.000000     84.000000     17.000000\n",
       "max       16.450000    261.510000    192.000000    116.000000     56.000000"
      ]
     },
     "execution_count": 3,
     "metadata": {},
     "output_type": "execute_result"
    }
   ],
   "source": [
    "df.describe()"
   ]
  },
  {
   "cell_type": "code",
   "execution_count": 4,
   "id": "a9472e07-6189-4685-ba26-917badadc47d",
   "metadata": {},
   "outputs": [],
   "source": [
    "TARGET = 'name'"
   ]
  },
  {
   "cell_type": "code",
   "execution_count": 5,
   "id": "3fdb9e76-a825-4078-a7b7-e4f45c836484",
   "metadata": {},
   "outputs": [
    {
     "data": {
      "text/plain": [
       "orange        5000\n",
       "grapefruit    5000\n",
       "Name: name, dtype: int64"
      ]
     },
     "execution_count": 5,
     "metadata": {},
     "output_type": "execute_result"
    }
   ],
   "source": [
    "df[TARGET].value_counts()"
   ]
  },
  {
   "cell_type": "markdown",
   "id": "982d5d59-6dd2-40c4-99eb-cf8e89183dbe",
   "metadata": {},
   "source": [
    "Небаланса классов нет."
   ]
  },
  {
   "cell_type": "markdown",
   "id": "3efbb1e8-491b-4fa3-aa18-9b5bf432d0bc",
   "metadata": {},
   "source": [
    "Апельсины обозначим за класс 1, грейпфруты - за класс 0:"
   ]
  },
  {
   "cell_type": "code",
   "execution_count": 6,
   "id": "e32607fb-4391-4f76-b708-d4b700332b10",
   "metadata": {},
   "outputs": [],
   "source": [
    "df[TARGET] = df[TARGET].map({'orange': 1, 'grapefruit': 0})"
   ]
  },
  {
   "cell_type": "markdown",
   "id": "32bec32c-f25e-4a18-981a-a134a35818a8",
   "metadata": {},
   "source": [
    "Обучим обычную модель классификации с отложенной выборкой:"
   ]
  },
  {
   "cell_type": "code",
   "execution_count": 7,
   "id": "7a5f9f88-e247-45b5-9982-b906e9dbbb68",
   "metadata": {},
   "outputs": [],
   "source": [
    "class NumberSelector(BaseEstimator, TransformerMixin):\n",
    "    \"\"\"\n",
    "    Transformer to select a single column from the data frame to perform additional transformations on\n",
    "    Use on numeric columns in the data\n",
    "    \"\"\"\n",
    "    def __init__(self, key):\n",
    "        self.key = key\n",
    "\n",
    "    def fit(self, X, y=None):\n",
    "        return self\n",
    "\n",
    "    def transform(self, X):\n",
    "        return X[[self.key]]"
   ]
  },
  {
   "cell_type": "code",
   "execution_count": null,
   "id": "db64c979-2bda-48a4-8450-c43e6049bfad",
   "metadata": {},
   "outputs": [],
   "source": []
  },
  {
   "cell_type": "code",
   "execution_count": 8,
   "id": "95632f2a-896e-4761-bae1-418902725fc0",
   "metadata": {},
   "outputs": [],
   "source": [
    "cols = ['diameter', 'weight', 'red', 'green', 'blue']"
   ]
  },
  {
   "cell_type": "code",
   "execution_count": 9,
   "id": "e88af351-a3f8-488d-ac1a-e2c2eae5b12f",
   "metadata": {},
   "outputs": [],
   "source": [
    "final_transformers = []\n",
    "\n",
    "for col in cols:\n",
    "    col_transformer = Pipeline([\n",
    "        ('selector', NumberSelector(key=col)),\n",
    "        # ('scaler', StandardScaler())\n",
    "    ])\n",
    "    \n",
    "    final_transformers.append((col, col_transformer))"
   ]
  },
  {
   "cell_type": "code",
   "execution_count": 10,
   "id": "1b7d9e0d-7f6a-448b-b6c5-91f5cc6a552d",
   "metadata": {},
   "outputs": [],
   "source": [
    "feats = FeatureUnion(final_transformers)"
   ]
  },
  {
   "cell_type": "code",
   "execution_count": 11,
   "id": "ce698372-72f0-4866-ab8c-f3e2d61f1661",
   "metadata": {},
   "outputs": [],
   "source": [
    "X_train, X_test, y_train, y_test = train_test_split(df, df[TARGET], test_size=0.25, random_state=29)"
   ]
  },
  {
   "cell_type": "code",
   "execution_count": 12,
   "id": "6c3db2c6-c5e6-418c-98f7-66468728c1f2",
   "metadata": {},
   "outputs": [],
   "source": [
    "gb_model = Pipeline([\n",
    "    ('features', feats),\n",
    "    ('classifier', GradientBoostingClassifier(random_state=29))\n",
    "])"
   ]
  },
  {
   "cell_type": "code",
   "execution_count": 13,
   "id": "cb5f18c7-297b-47fb-9983-9b45e5eb2024",
   "metadata": {},
   "outputs": [],
   "source": [
    "gb_model.fit(X_train, y_train)\n",
    "y_pred = gb_model.predict(X_test)"
   ]
  },
  {
   "cell_type": "markdown",
   "id": "68f4ce9c-edd8-44cb-945d-d73c85a5881f",
   "metadata": {},
   "source": [
    "Оценим её качество. Не будем брать метрики precision и recall, заменим их на  \n",
    "accuracy, в данном случае она должна быть представительной, ведь у нас  \n",
    "нет небаланса классов."
   ]
  },
  {
   "cell_type": "code",
   "execution_count": 14,
   "id": "8053040a-6a67-42ff-aad2-57f6c25dff52",
   "metadata": {},
   "outputs": [],
   "source": [
    "def evaluate_results(y_true, y_pred, verbose=True):\n",
    "    \n",
    "    f1 = f1_score(y_true, y_pred)\n",
    "    acc = accuracy_score(y_true, y_pred)\n",
    "    if verbose:\n",
    "        print(f'F1-score:\\t{f1:.2f}\\n'\n",
    "              f'Accuracy:\\t{acc:.2f}')\n",
    "\n",
    "    return f1, acc"
   ]
  },
  {
   "cell_type": "code",
   "execution_count": 15,
   "id": "1df4259f-1373-46a5-ac36-0a2b4f9ca0aa",
   "metadata": {},
   "outputs": [
    {
     "name": "stdout",
     "output_type": "stream",
     "text": [
      "F1-score:\t0.95\n",
      "Accuracy:\t0.94\n"
     ]
    }
   ],
   "source": [
    "class_f1, class_accuracy = evaluate_results(y_test, y_pred)"
   ]
  },
  {
   "cell_type": "markdown",
   "id": "5bf42955-1b32-44f2-b9f0-d97ce45d6901",
   "metadata": {},
   "source": [
    "Теперь воспользуемся random negative sampling и выберем только часть  \n",
    "объектов положительного класса. Далее случайно выберем столько же объектов  \n",
    "из того, что осталось, и пометим их как отрицательный класс. На выбранных  \n",
    "таким образом объектах проведём обучение, а на оставшихся - посчитаем метрики.  \n",
    "Долю размеченных данных положительного класса сначала возьмём 25%:"
   ]
  },
  {
   "cell_type": "code",
   "execution_count": 16,
   "id": "161d9621-8551-497b-9d81-b5ffac410fdc",
   "metadata": {},
   "outputs": [],
   "source": [
    "def pu_teach(frac=0.25, verbose=True, show_fractions=True):\n",
    "    \n",
    "    np.random.seed(29)\n",
    "    mod_df = df.copy()\n",
    "    \n",
    "    # get the indices of the positives samples\n",
    "    pos_ind = np.where(mod_df[TARGET].values == 1)[0]\n",
    "\n",
    "    # shuffle them\n",
    "    np.random.shuffle(pos_ind)\n",
    "    # leave frac% of the positives marked\n",
    "    pos_sample_len = int(np.ceil(frac * len(pos_ind)))\n",
    "\n",
    "    if show_fractions:\n",
    "        print(f'Frac = {frac}: Using {pos_sample_len}/{len(pos_ind)} as positives and unlabeling the rest\\n')\n",
    "    pos_sample = pos_ind[:pos_sample_len]\n",
    "    mod_df['class_test'] = 0\n",
    "    mod_df.loc[pos_sample, 'class_test'] = 1\n",
    "    mod_df = mod_df.sample(frac=1)\n",
    "    \n",
    "    data_N = mod_df[mod_df['class_test'] == 0]\n",
    "    data_P = mod_df[mod_df['class_test'] == 1]\n",
    "    \n",
    "    neg_sample = data_N[:data_P.shape[0]]\n",
    "    sample_test = data_N[data_P.shape[0]:]\n",
    "    pos_sample = data_P.copy()\n",
    "    \n",
    "    sample_train = pd.concat([neg_sample, pos_sample]).sample(frac=1)\n",
    "    \n",
    "    gb_model.fit(sample_train.drop(['class_test', TARGET], axis=1), sample_train['class_test'])\n",
    "    preds = gb_model.predict(sample_test.drop(['class_test', TARGET], axis=1))\n",
    "    \n",
    "    return evaluate_results(sample_test[TARGET], preds, verbose)"
   ]
  },
  {
   "cell_type": "code",
   "execution_count": 17,
   "id": "707cd08f-55a5-485f-a357-0e314cdab458",
   "metadata": {},
   "outputs": [
    {
     "name": "stdout",
     "output_type": "stream",
     "text": [
      "Frac = 0.25: Using 1250/5000 as positives and unlabeling the rest\n",
      "\n",
      "F1-score:\t0.89\n",
      "Accuracy:\t0.91\n"
     ]
    }
   ],
   "source": [
    "pu_learn_f1, pu_learn_acc = pu_teach()"
   ]
  },
  {
   "cell_type": "markdown",
   "id": "92ddb07b-c479-42f3-b9e1-e8044fa7e725",
   "metadata": {},
   "source": [
    "Сравним эти метрики с теми, что получились при обучении на отложенной выборке  \n",
    "при обычной классификации:"
   ]
  },
  {
   "cell_type": "code",
   "execution_count": 18,
   "id": "df7a2ee3-575d-49a8-bdfe-af7fc3b9200e",
   "metadata": {},
   "outputs": [
    {
     "data": {
      "text/html": [
       "<div>\n",
       "<style scoped>\n",
       "    .dataframe tbody tr th:only-of-type {\n",
       "        vertical-align: middle;\n",
       "    }\n",
       "\n",
       "    .dataframe tbody tr th {\n",
       "        vertical-align: top;\n",
       "    }\n",
       "\n",
       "    .dataframe thead th {\n",
       "        text-align: right;\n",
       "    }\n",
       "</style>\n",
       "<table border=\"1\" class=\"dataframe\">\n",
       "  <thead>\n",
       "    <tr style=\"text-align: right;\">\n",
       "      <th></th>\n",
       "      <th>F1-score</th>\n",
       "      <th>Accuracy</th>\n",
       "    </tr>\n",
       "  </thead>\n",
       "  <tbody>\n",
       "    <tr>\n",
       "      <th>Classification</th>\n",
       "      <td>0.945020</td>\n",
       "      <td>0.944800</td>\n",
       "    </tr>\n",
       "    <tr>\n",
       "      <th>PU-learning</th>\n",
       "      <td>0.893922</td>\n",
       "      <td>0.911333</td>\n",
       "    </tr>\n",
       "  </tbody>\n",
       "</table>\n",
       "</div>"
      ],
      "text/plain": [
       "                F1-score  Accuracy\n",
       "Classification  0.945020  0.944800\n",
       "PU-learning     0.893922  0.911333"
      ]
     },
     "execution_count": 18,
     "metadata": {},
     "output_type": "execute_result"
    }
   ],
   "source": [
    "methods = ['Classification', 'PU-learning']\n",
    "columns = ['F1-score', 'Accuracy']\n",
    "data = np.array([\n",
    "    [class_f1, class_accuracy], \n",
    "    [pu_learn_f1, pu_learn_acc]\n",
    "])\n",
    "pd.DataFrame(data, index=methods, columns=columns)"
   ]
  },
  {
   "cell_type": "markdown",
   "id": "7512e978-6246-4472-aff5-b00aa8bdc6b4",
   "metadata": {},
   "source": [
    "Обычная классификация оказалась лучше, так как метки классов всей  \n",
    "обучающей выборки были известны модели при обучении. Также сама  \n",
    "обучающая выборка имела достаточный размер.  \n",
    "Посмотрим, как будут вести себя метрики при изменении доли размеченных  \n",
    "данных позитивного класса:"
   ]
  },
  {
   "cell_type": "code",
   "execution_count": 19,
   "id": "9d3754fa-ace2-4b72-a2e4-9a8ca192acca",
   "metadata": {},
   "outputs": [
    {
     "name": "stdout",
     "output_type": "stream",
     "text": [
      "Frac = 0.1: Using 500/5000 as positives and unlabeling the rest\n",
      "\n",
      "Frac = 0.2: Using 1000/5000 as positives and unlabeling the rest\n",
      "\n",
      "Frac = 0.30000000000000004: Using 1501/5000 as positives and unlabeling the rest\n",
      "\n",
      "Frac = 0.4: Using 2000/5000 as positives and unlabeling the rest\n",
      "\n",
      "Frac = 0.5: Using 2500/5000 as positives and unlabeling the rest\n",
      "\n",
      "Frac = 0.6: Using 3000/5000 as positives and unlabeling the rest\n",
      "\n",
      "Frac = 0.7000000000000001: Using 3501/5000 as positives and unlabeling the rest\n",
      "\n",
      "Frac = 0.8: Using 4000/5000 as positives and unlabeling the rest\n",
      "\n",
      "Frac = 0.9: Using 4500/5000 as positives and unlabeling the rest\n",
      "\n"
     ]
    },
    {
     "data": {
      "image/png": "[encoded data removed]",
      "text/plain": [
       "<Figure size 864x288 with 2 Axes>"
      ]
     },
     "metadata": {
      "needs_background": "light"
     },
     "output_type": "display_data"
    }
   ],
   "source": [
    "P_frac = np.linspace(0.1, 0.9, 9)\n",
    "acc_scores = []\n",
    "f1_scores = []\n",
    "\n",
    "for frac in P_frac:\n",
    "    acc_scores.append(pu_teach(frac=frac, verbose=False)[1])\n",
    "    f1_scores.append(pu_teach(frac=frac, verbose=False, show_fractions=False)[0])\n",
    "\n",
    "plt.rcParams.update({'font.size': 14})\n",
    "fig = plt.figure(figsize=(12, 4))\n",
    "\n",
    "ax1 = fig.add_subplot(1, 2, 1)\n",
    "ax1.plot(P_frac, acc_scores)\n",
    "ax1.set_xlabel('Fraction')\n",
    "ax1.set_title('Accuracy')\n",
    "ax1.grid()\n",
    "\n",
    "ax2 = fig.add_subplot(1, 2, 2)\n",
    "ax2.plot(P_frac, f1_scores)\n",
    "ax2.set_xlabel('Fraction')\n",
    "ax2.set_title('F1-score')\n",
    "ax2.grid()\n",
    "\n",
    "plt.show()"
   ]
  },
  {
   "cell_type": "markdown",
   "id": "b1f2d8cb-f07c-4c0a-9cb4-67b92620dffd",
   "metadata": {},
   "source": [
    "Оптимальное значение доли размеченных данных позитивного класса оказалось  \n",
    "примерно 0,5-0,6. При этом у нас самые высокие значения метрик. Падение  \n",
    "F1-score при увеличении доли выше 0,6, скорее всего, связано с переобучением  \n",
    "модели из-за большого размера обучающей выборки и малого размера тестовой  \n",
    "выборки."
   ]
  }
 ],
 "metadata": {
  "kernelspec": {
   "display_name": "Python 3 (ipykernel)",
   "language": "python",
   "name": "python3"
  },
  "language_info": {
   "codemirror_mode": {
    "name": "ipython",
    "version": 3
   },
   "file_extension": ".py",
   "mimetype": "text/x-python",
   "name": "python",
   "nbconvert_exporter": "python",
   "pygments_lexer": "ipython3",
   "version": "3.10.2"
  }
 },
 "nbformat": 4,
 "nbformat_minor": 5
}
